{
 "cells": [
  {
   "cell_type": "code",
   "execution_count": 1,
   "metadata": {},
   "outputs": [],
   "source": [
    "import pandas as pd\n",
    "from statistics import variance\n",
    "import numpy as np \n",
    "import matplotlib.pyplot as plt\n",
    "import seaborn as sns\n",
    "from scipy import stats\n",
    "\n",
    "from scipy.stats import ttest_1samp\n",
    "from scipy.stats import t\n",
    "\n"
   ]
  },
  {
   "cell_type": "code",
   "execution_count": 2,
   "metadata": {},
   "outputs": [],
   "source": [
    "sensor_a = pd.read_excel('./hw_1_data/HEAT - A_final.xls', skiprows = 3).drop([0])\n",
    "sensor_b = pd.read_excel('./hw_1_data/HEAT - B_final.xls', skiprows = 3).drop([0])\n",
    "sensor_c = pd.read_excel('./hw_1_data/HEAT - C_final.xls', skiprows = 3).drop([0])\n",
    "sensor_d = pd.read_excel('./hw_1_data/HEAT - D_final.xls', skiprows = 3).drop([0])\n",
    "sensor_e = pd.read_excel('./hw_1_data/HEAT - E_final.xls', skiprows = 3).drop([0])"
   ]
  },
  {
   "cell_type": "code",
   "execution_count": 3,
   "metadata": {},
   "outputs": [],
   "source": [
    "to_numeric_columns = ['Direction ‚ True', 'Wind Speed',\n",
    "       'Crosswind Speed', 'Headwind Speed', 'Temperature', 'Globe Temperature',\n",
    "       'Wind Chill', 'Relative Humidity', 'Heat Stress Index', 'Dew Point',\n",
    "       'Psychro Wet Bulb Temperature', 'Station Pressure',\n",
    "       'Barometric Pressure', 'Altitude', 'Density Altitude',\n",
    "       'NA Wet Bulb Temperature', 'WBGT', 'TWL', 'Direction ‚ Mag']"
   ]
  },
  {
   "cell_type": "code",
   "execution_count": 4,
   "metadata": {},
   "outputs": [],
   "source": [
    "sensor_a[to_numeric_columns] = sensor_a[to_numeric_columns].apply(pd.to_numeric)\n",
    "sensor_a['FORMATTED DATE-TIME'] = pd.to_datetime(sensor_a['FORMATTED DATE-TIME'])\n",
    "#sensor_a.set_index('FORMATTED DATE-TIME')"
   ]
  },
  {
   "cell_type": "code",
   "execution_count": 5,
   "metadata": {},
   "outputs": [],
   "source": [
    "sensor_b[to_numeric_columns] = sensor_b[to_numeric_columns].apply(pd.to_numeric)\n",
    "sensor_b['FORMATTED DATE-TIME'] = pd.to_datetime(sensor_b['FORMATTED DATE-TIME'])\n",
    "#sensor_b.set_index('FORMATTED DATE-TIME')"
   ]
  },
  {
   "cell_type": "code",
   "execution_count": 6,
   "metadata": {},
   "outputs": [],
   "source": [
    "sensor_c[to_numeric_columns] = sensor_c[to_numeric_columns].apply(pd.to_numeric)\n",
    "sensor_c['FORMATTED DATE-TIME'] = pd.to_datetime(sensor_c['FORMATTED DATE-TIME'])\n",
    "#sensor_c.set_index('FORMATTED DATE-TIME')"
   ]
  },
  {
   "cell_type": "code",
   "execution_count": 7,
   "metadata": {},
   "outputs": [],
   "source": [
    "sensor_d[to_numeric_columns] = sensor_d[to_numeric_columns].apply(pd.to_numeric)\n",
    "sensor_d['FORMATTED DATE-TIME'] = pd.to_datetime(sensor_d['FORMATTED DATE-TIME'])\n",
    "#sensor_d.set_index('FORMATTED DATE-TIME')"
   ]
  },
  {
   "cell_type": "code",
   "execution_count": 8,
   "metadata": {},
   "outputs": [],
   "source": [
    "sensor_e[to_numeric_columns] = sensor_e[to_numeric_columns].apply(pd.to_numeric)\n",
    "sensor_e['FORMATTED DATE-TIME'] = pd.to_datetime(sensor_e['FORMATTED DATE-TIME'])\n",
    "#sensor_e.set_index('FORMATTED DATE-TIME')"
   ]
  },
  {
   "cell_type": "code",
   "execution_count": 9,
   "metadata": {},
   "outputs": [
    {
     "name": "stdout",
     "output_type": "stream",
     "text": [
      "FORMATTED DATE-TIME             0\n",
      "Direction ‚ True                0\n",
      "Wind Speed                      0\n",
      "Crosswind Speed                 0\n",
      "Headwind Speed                  0\n",
      "Temperature                     0\n",
      "Globe Temperature               0\n",
      "Wind Chill                      0\n",
      "Relative Humidity               0\n",
      "Heat Stress Index               0\n",
      "Dew Point                       0\n",
      "Psychro Wet Bulb Temperature    0\n",
      "Station Pressure                0\n",
      "Barometric Pressure             0\n",
      "Altitude                        0\n",
      "Density Altitude                0\n",
      "NA Wet Bulb Temperature         0\n",
      "WBGT                            0\n",
      "TWL                             0\n",
      "Direction ‚ Mag                 0\n",
      "dtype: int64\n",
      "FORMATTED DATE-TIME             0\n",
      "Direction ‚ True                0\n",
      "Wind Speed                      0\n",
      "Crosswind Speed                 0\n",
      "Headwind Speed                  0\n",
      "Temperature                     0\n",
      "Globe Temperature               0\n",
      "Wind Chill                      0\n",
      "Relative Humidity               0\n",
      "Heat Stress Index               0\n",
      "Dew Point                       0\n",
      "Psychro Wet Bulb Temperature    0\n",
      "Station Pressure                0\n",
      "Barometric Pressure             0\n",
      "Altitude                        0\n",
      "Density Altitude                0\n",
      "NA Wet Bulb Temperature         0\n",
      "WBGT                            0\n",
      "TWL                             0\n",
      "Direction ‚ Mag                 0\n",
      "dtype: int64\n",
      "FORMATTED DATE-TIME             0\n",
      "Direction ‚ True                0\n",
      "Wind Speed                      0\n",
      "Crosswind Speed                 0\n",
      "Headwind Speed                  0\n",
      "Temperature                     0\n",
      "Globe Temperature               0\n",
      "Wind Chill                      0\n",
      "Relative Humidity               0\n",
      "Heat Stress Index               0\n",
      "Dew Point                       0\n",
      "Psychro Wet Bulb Temperature    0\n",
      "Station Pressure                0\n",
      "Barometric Pressure             0\n",
      "Altitude                        0\n",
      "Density Altitude                0\n",
      "NA Wet Bulb Temperature         0\n",
      "WBGT                            0\n",
      "TWL                             0\n",
      "Direction ‚ Mag                 0\n",
      "dtype: int64\n",
      "FORMATTED DATE-TIME             0\n",
      "Direction ‚ True                0\n",
      "Wind Speed                      0\n",
      "Crosswind Speed                 0\n",
      "Headwind Speed                  0\n",
      "Temperature                     0\n",
      "Globe Temperature               0\n",
      "Wind Chill                      0\n",
      "Relative Humidity               0\n",
      "Heat Stress Index               0\n",
      "Dew Point                       0\n",
      "Psychro Wet Bulb Temperature    0\n",
      "Station Pressure                0\n",
      "Barometric Pressure             0\n",
      "Altitude                        0\n",
      "Density Altitude                0\n",
      "NA Wet Bulb Temperature         0\n",
      "WBGT                            0\n",
      "TWL                             0\n",
      "Direction ‚ Mag                 0\n",
      "dtype: int64\n",
      "FORMATTED DATE-TIME             0\n",
      "Direction ‚ True                0\n",
      "Wind Speed                      0\n",
      "Crosswind Speed                 0\n",
      "Headwind Speed                  0\n",
      "Temperature                     0\n",
      "Globe Temperature               0\n",
      "Wind Chill                      0\n",
      "Relative Humidity               0\n",
      "Heat Stress Index               0\n",
      "Dew Point                       0\n",
      "Psychro Wet Bulb Temperature    0\n",
      "Station Pressure                0\n",
      "Barometric Pressure             0\n",
      "Altitude                        0\n",
      "Density Altitude                0\n",
      "NA Wet Bulb Temperature         0\n",
      "WBGT                            0\n",
      "TWL                             0\n",
      "Direction ‚ Mag                 0\n",
      "dtype: int64\n"
     ]
    }
   ],
   "source": [
    "print(sensor_a.isna().sum())\n",
    "print(sensor_b.isna().sum())\n",
    "print(sensor_c.isna().sum())\n",
    "print(sensor_d.isna().sum())\n",
    "print(sensor_e.isna().sum())\n",
    "\n",
    "# No NAN values in sensor lists "
   ]
  },
  {
   "cell_type": "code",
   "execution_count": 45,
   "metadata": {},
   "outputs": [
    {
     "name": "stdout",
     "output_type": "stream",
     "text": [
      "NaN values in dataset\n"
     ]
    }
   ],
   "source": [
    "if sensor_a.isnull().values.ravel().sum() and sensor_b.isnull().values.ravel().sum() and sensor_c.isnull().values.ravel().sum() and sensor_d.isnull().values.ravel().sum() and sensor_e.isnull().values.ravel().sum():\n",
    "    print('No NaN values in dataset')\n",
    "else: \n",
    "    print('NaN values in dataset')\n",
    "\n",
    "\n"
   ]
  },
  {
   "cell_type": "code",
   "execution_count": 10,
   "metadata": {},
   "outputs": [],
   "source": [
    "sensor_list = [sensor_a, sensor_b, sensor_c, sensor_d, sensor_e]\n",
    "name_list = ['sensor_a','sensor_b', 'sensor_c', 'sensor_d', 'sensor_e']"
   ]
  },
  {
   "cell_type": "code",
   "execution_count": 11,
   "metadata": {},
   "outputs": [],
   "source": [
    "i = 0\n",
    "mean_dict = {} \n",
    "for sensor in sensor_list:\n",
    "    mean_list = [] \n",
    "    sensor_name = name_list[i]\n",
    "    for measurement in to_numeric_columns:\n",
    "        mean = round(sensor[measurement].mean(),3)\n",
    "        mean_list.append(mean)\n",
    "    mean_dict.update({sensor_name : mean_list})\n",
    "    i += 1\n",
    "\n",
    "mean_df = pd.DataFrame.from_dict(mean_dict, orient = 'index', columns = to_numeric_columns)\n",
    "mean_df2 = mean_df.transpose()\n",
    "mean_df2.to_csv('mean_variables.csv')   "
   ]
  },
  {
   "cell_type": "code",
   "execution_count": 12,
   "metadata": {},
   "outputs": [
    {
     "data": {
      "text/html": [
       "<div>\n",
       "<style scoped>\n",
       "    .dataframe tbody tr th:only-of-type {\n",
       "        vertical-align: middle;\n",
       "    }\n",
       "\n",
       "    .dataframe tbody tr th {\n",
       "        vertical-align: top;\n",
       "    }\n",
       "\n",
       "    .dataframe thead th {\n",
       "        text-align: right;\n",
       "    }\n",
       "</style>\n",
       "<table border=\"1\" class=\"dataframe\">\n",
       "  <thead>\n",
       "    <tr style=\"text-align: right;\">\n",
       "      <th></th>\n",
       "      <th>sensor_a</th>\n",
       "      <th>sensor_b</th>\n",
       "      <th>sensor_c</th>\n",
       "      <th>sensor_d</th>\n",
       "      <th>sensor_e</th>\n",
       "    </tr>\n",
       "  </thead>\n",
       "  <tbody>\n",
       "    <tr>\n",
       "      <td>Direction ‚ True</td>\n",
       "      <td>209.406</td>\n",
       "      <td>183.412</td>\n",
       "      <td>183.589</td>\n",
       "      <td>198.327</td>\n",
       "      <td>223.956</td>\n",
       "    </tr>\n",
       "    <tr>\n",
       "      <td>Wind Speed</td>\n",
       "      <td>1.290</td>\n",
       "      <td>1.242</td>\n",
       "      <td>1.371</td>\n",
       "      <td>1.582</td>\n",
       "      <td>0.596</td>\n",
       "    </tr>\n",
       "    <tr>\n",
       "      <td>Crosswind Speed</td>\n",
       "      <td>0.965</td>\n",
       "      <td>0.836</td>\n",
       "      <td>0.963</td>\n",
       "      <td>1.211</td>\n",
       "      <td>0.439</td>\n",
       "    </tr>\n",
       "    <tr>\n",
       "      <td>Headwind Speed</td>\n",
       "      <td>0.164</td>\n",
       "      <td>-0.130</td>\n",
       "      <td>-0.263</td>\n",
       "      <td>-0.301</td>\n",
       "      <td>0.195</td>\n",
       "    </tr>\n",
       "    <tr>\n",
       "      <td>Temperature</td>\n",
       "      <td>17.969</td>\n",
       "      <td>18.065</td>\n",
       "      <td>17.913</td>\n",
       "      <td>17.996</td>\n",
       "      <td>18.354</td>\n",
       "    </tr>\n",
       "    <tr>\n",
       "      <td>Globe Temperature</td>\n",
       "      <td>21.545</td>\n",
       "      <td>21.799</td>\n",
       "      <td>21.587</td>\n",
       "      <td>21.359</td>\n",
       "      <td>21.176</td>\n",
       "    </tr>\n",
       "    <tr>\n",
       "      <td>Wind Chill</td>\n",
       "      <td>17.838</td>\n",
       "      <td>17.946</td>\n",
       "      <td>17.773</td>\n",
       "      <td>17.835</td>\n",
       "      <td>18.294</td>\n",
       "    </tr>\n",
       "    <tr>\n",
       "      <td>Relative Humidity</td>\n",
       "      <td>78.185</td>\n",
       "      <td>77.878</td>\n",
       "      <td>77.963</td>\n",
       "      <td>77.942</td>\n",
       "      <td>76.793</td>\n",
       "    </tr>\n",
       "    <tr>\n",
       "      <td>Heat Stress Index</td>\n",
       "      <td>17.900</td>\n",
       "      <td>18.004</td>\n",
       "      <td>17.828</td>\n",
       "      <td>17.922</td>\n",
       "      <td>18.286</td>\n",
       "    </tr>\n",
       "    <tr>\n",
       "      <td>Dew Point</td>\n",
       "      <td>13.554</td>\n",
       "      <td>13.531</td>\n",
       "      <td>13.458</td>\n",
       "      <td>13.509</td>\n",
       "      <td>13.559</td>\n",
       "    </tr>\n",
       "    <tr>\n",
       "      <td>Psychro Wet Bulb Temperature</td>\n",
       "      <td>15.271</td>\n",
       "      <td>15.296</td>\n",
       "      <td>15.197</td>\n",
       "      <td>15.260</td>\n",
       "      <td>15.407</td>\n",
       "    </tr>\n",
       "    <tr>\n",
       "      <td>Station Pressure</td>\n",
       "      <td>1016.168</td>\n",
       "      <td>1016.657</td>\n",
       "      <td>1016.689</td>\n",
       "      <td>1016.728</td>\n",
       "      <td>1016.166</td>\n",
       "    </tr>\n",
       "    <tr>\n",
       "      <td>Barometric Pressure</td>\n",
       "      <td>1016.128</td>\n",
       "      <td>1016.616</td>\n",
       "      <td>1016.652</td>\n",
       "      <td>1016.689</td>\n",
       "      <td>1016.128</td>\n",
       "    </tr>\n",
       "    <tr>\n",
       "      <td>Altitude</td>\n",
       "      <td>-25.987</td>\n",
       "      <td>-30.058</td>\n",
       "      <td>-30.339</td>\n",
       "      <td>-30.653</td>\n",
       "      <td>-25.961</td>\n",
       "    </tr>\n",
       "    <tr>\n",
       "      <td>Density Altitude</td>\n",
       "      <td>137.317</td>\n",
       "      <td>135.581</td>\n",
       "      <td>129.623</td>\n",
       "      <td>132.411</td>\n",
       "      <td>150.840</td>\n",
       "    </tr>\n",
       "    <tr>\n",
       "      <td>NA Wet Bulb Temperature</td>\n",
       "      <td>15.982</td>\n",
       "      <td>15.997</td>\n",
       "      <td>15.934</td>\n",
       "      <td>15.916</td>\n",
       "      <td>15.937</td>\n",
       "    </tr>\n",
       "    <tr>\n",
       "      <td>WBGT</td>\n",
       "      <td>17.254</td>\n",
       "      <td>17.322</td>\n",
       "      <td>17.225</td>\n",
       "      <td>17.177</td>\n",
       "      <td>17.186</td>\n",
       "    </tr>\n",
       "    <tr>\n",
       "      <td>TWL</td>\n",
       "      <td>301.393</td>\n",
       "      <td>299.452</td>\n",
       "      <td>301.900</td>\n",
       "      <td>305.255</td>\n",
       "      <td>284.115</td>\n",
       "    </tr>\n",
       "    <tr>\n",
       "      <td>Direction ‚ Mag</td>\n",
       "      <td>208.905</td>\n",
       "      <td>183.217</td>\n",
       "      <td>183.084</td>\n",
       "      <td>197.826</td>\n",
       "      <td>223.897</td>\n",
       "    </tr>\n",
       "  </tbody>\n",
       "</table>\n",
       "</div>"
      ],
      "text/plain": [
       "                              sensor_a  sensor_b  sensor_c  sensor_d  sensor_e\n",
       "Direction ‚ True               209.406   183.412   183.589   198.327   223.956\n",
       "Wind Speed                       1.290     1.242     1.371     1.582     0.596\n",
       "Crosswind Speed                  0.965     0.836     0.963     1.211     0.439\n",
       "Headwind Speed                   0.164    -0.130    -0.263    -0.301     0.195\n",
       "Temperature                     17.969    18.065    17.913    17.996    18.354\n",
       "Globe Temperature               21.545    21.799    21.587    21.359    21.176\n",
       "Wind Chill                      17.838    17.946    17.773    17.835    18.294\n",
       "Relative Humidity               78.185    77.878    77.963    77.942    76.793\n",
       "Heat Stress Index               17.900    18.004    17.828    17.922    18.286\n",
       "Dew Point                       13.554    13.531    13.458    13.509    13.559\n",
       "Psychro Wet Bulb Temperature    15.271    15.296    15.197    15.260    15.407\n",
       "Station Pressure              1016.168  1016.657  1016.689  1016.728  1016.166\n",
       "Barometric Pressure           1016.128  1016.616  1016.652  1016.689  1016.128\n",
       "Altitude                       -25.987   -30.058   -30.339   -30.653   -25.961\n",
       "Density Altitude               137.317   135.581   129.623   132.411   150.840\n",
       "NA Wet Bulb Temperature         15.982    15.997    15.934    15.916    15.937\n",
       "WBGT                            17.254    17.322    17.225    17.177    17.186\n",
       "TWL                            301.393   299.452   301.900   305.255   284.115\n",
       "Direction ‚ Mag                208.905   183.217   183.084   197.826   223.897"
      ]
     },
     "execution_count": 12,
     "metadata": {},
     "output_type": "execute_result"
    }
   ],
   "source": [
    "mean_df2"
   ]
  },
  {
   "cell_type": "code",
   "execution_count": 13,
   "metadata": {},
   "outputs": [],
   "source": [
    "i = 0\n",
    "var_dict = {} \n",
    "for sensor in sensor_list:\n",
    "    var_list = [] \n",
    "    sensor_name = name_list[i]\n",
    "    for measurement in to_numeric_columns:\n",
    "        var = round(variance(sensor[measurement]), 3)\n",
    "        var_list.append(var)\n",
    "    var_dict.update({sensor_name : var_list})\n",
    "    i += 1\n",
    "\n",
    "var_df = pd.DataFrame.from_dict(var_dict, orient = 'index', columns = to_numeric_columns)\n",
    "var_df2 = var_df.transpose()\n",
    "var_df2.to_csv('variance_variables.csv')   \n",
    "    "
   ]
  },
  {
   "cell_type": "code",
   "execution_count": 14,
   "metadata": {},
   "outputs": [
    {
     "data": {
      "text/html": [
       "<div>\n",
       "<style scoped>\n",
       "    .dataframe tbody tr th:only-of-type {\n",
       "        vertical-align: middle;\n",
       "    }\n",
       "\n",
       "    .dataframe tbody tr th {\n",
       "        vertical-align: top;\n",
       "    }\n",
       "\n",
       "    .dataframe thead th {\n",
       "        text-align: right;\n",
       "    }\n",
       "</style>\n",
       "<table border=\"1\" class=\"dataframe\">\n",
       "  <thead>\n",
       "    <tr style=\"text-align: right;\">\n",
       "      <th></th>\n",
       "      <th>sensor_a</th>\n",
       "      <th>sensor_b</th>\n",
       "      <th>sensor_c</th>\n",
       "      <th>sensor_d</th>\n",
       "      <th>sensor_e</th>\n",
       "    </tr>\n",
       "  </thead>\n",
       "  <tbody>\n",
       "    <tr>\n",
       "      <td>Direction ‚ True</td>\n",
       "      <td>10108.940</td>\n",
       "      <td>9977.218</td>\n",
       "      <td>7703.363</td>\n",
       "      <td>8133.890</td>\n",
       "      <td>9308.285</td>\n",
       "    </tr>\n",
       "    <tr>\n",
       "      <td>Wind Speed</td>\n",
       "      <td>1.251</td>\n",
       "      <td>1.302</td>\n",
       "      <td>1.431</td>\n",
       "      <td>1.740</td>\n",
       "      <td>0.511</td>\n",
       "    </tr>\n",
       "    <tr>\n",
       "      <td>Crosswind Speed</td>\n",
       "      <td>0.927</td>\n",
       "      <td>0.879</td>\n",
       "      <td>1.043</td>\n",
       "      <td>1.452</td>\n",
       "      <td>0.316</td>\n",
       "    </tr>\n",
       "    <tr>\n",
       "      <td>Headwind Speed</td>\n",
       "      <td>1.035</td>\n",
       "      <td>1.257</td>\n",
       "      <td>1.272</td>\n",
       "      <td>1.233</td>\n",
       "      <td>0.319</td>\n",
       "    </tr>\n",
       "    <tr>\n",
       "      <td>Temperature</td>\n",
       "      <td>15.864</td>\n",
       "      <td>16.629</td>\n",
       "      <td>16.105</td>\n",
       "      <td>16.106</td>\n",
       "      <td>19.043</td>\n",
       "    </tr>\n",
       "    <tr>\n",
       "      <td>Globe Temperature</td>\n",
       "      <td>68.191</td>\n",
       "      <td>66.049</td>\n",
       "      <td>67.941</td>\n",
       "      <td>61.202</td>\n",
       "      <td>63.216</td>\n",
       "    </tr>\n",
       "    <tr>\n",
       "      <td>Wind Chill</td>\n",
       "      <td>16.264</td>\n",
       "      <td>17.036</td>\n",
       "      <td>16.541</td>\n",
       "      <td>16.557</td>\n",
       "      <td>19.137</td>\n",
       "    </tr>\n",
       "    <tr>\n",
       "      <td>Relative Humidity</td>\n",
       "      <td>376.010</td>\n",
       "      <td>408.623</td>\n",
       "      <td>374.623</td>\n",
       "      <td>389.856</td>\n",
       "      <td>406.494</td>\n",
       "    </tr>\n",
       "    <tr>\n",
       "      <td>Heat Stress Index</td>\n",
       "      <td>14.997</td>\n",
       "      <td>15.439</td>\n",
       "      <td>15.356</td>\n",
       "      <td>15.118</td>\n",
       "      <td>18.475</td>\n",
       "    </tr>\n",
       "    <tr>\n",
       "      <td>Dew Point</td>\n",
       "      <td>9.723</td>\n",
       "      <td>9.637</td>\n",
       "      <td>10.084</td>\n",
       "      <td>10.072</td>\n",
       "      <td>9.423</td>\n",
       "    </tr>\n",
       "    <tr>\n",
       "      <td>Psychro Wet Bulb Temperature</td>\n",
       "      <td>6.944</td>\n",
       "      <td>6.770</td>\n",
       "      <td>7.239</td>\n",
       "      <td>7.044</td>\n",
       "      <td>6.997</td>\n",
       "    </tr>\n",
       "    <tr>\n",
       "      <td>Station Pressure</td>\n",
       "      <td>38.471</td>\n",
       "      <td>36.842</td>\n",
       "      <td>37.691</td>\n",
       "      <td>34.988</td>\n",
       "      <td>38.940</td>\n",
       "    </tr>\n",
       "    <tr>\n",
       "      <td>Barometric Pressure</td>\n",
       "      <td>38.468</td>\n",
       "      <td>36.829</td>\n",
       "      <td>37.676</td>\n",
       "      <td>34.952</td>\n",
       "      <td>38.935</td>\n",
       "    </tr>\n",
       "    <tr>\n",
       "      <td>Altitude</td>\n",
       "      <td>2663.641</td>\n",
       "      <td>2545.708</td>\n",
       "      <td>2608.535</td>\n",
       "      <td>2419.724</td>\n",
       "      <td>2692.353</td>\n",
       "    </tr>\n",
       "    <tr>\n",
       "      <td>Density Altitude</td>\n",
       "      <td>26510.044</td>\n",
       "      <td>26863.310</td>\n",
       "      <td>26986.603</td>\n",
       "      <td>26516.126</td>\n",
       "      <td>29714.928</td>\n",
       "    </tr>\n",
       "    <tr>\n",
       "      <td>NA Wet Bulb Temperature</td>\n",
       "      <td>10.012</td>\n",
       "      <td>9.809</td>\n",
       "      <td>10.480</td>\n",
       "      <td>9.987</td>\n",
       "      <td>9.432</td>\n",
       "    </tr>\n",
       "    <tr>\n",
       "      <td>WBGT</td>\n",
       "      <td>16.135</td>\n",
       "      <td>15.835</td>\n",
       "      <td>16.547</td>\n",
       "      <td>15.507</td>\n",
       "      <td>15.490</td>\n",
       "    </tr>\n",
       "    <tr>\n",
       "      <td>TWL</td>\n",
       "      <td>814.767</td>\n",
       "      <td>790.069</td>\n",
       "      <td>766.534</td>\n",
       "      <td>616.010</td>\n",
       "      <td>1289.913</td>\n",
       "    </tr>\n",
       "    <tr>\n",
       "      <td>Direction ‚ Mag</td>\n",
       "      <td>10105.677</td>\n",
       "      <td>9975.447</td>\n",
       "      <td>7704.620</td>\n",
       "      <td>8135.316</td>\n",
       "      <td>9268.008</td>\n",
       "    </tr>\n",
       "  </tbody>\n",
       "</table>\n",
       "</div>"
      ],
      "text/plain": [
       "                               sensor_a   sensor_b   sensor_c   sensor_d  \\\n",
       "Direction ‚ True              10108.940   9977.218   7703.363   8133.890   \n",
       "Wind Speed                        1.251      1.302      1.431      1.740   \n",
       "Crosswind Speed                   0.927      0.879      1.043      1.452   \n",
       "Headwind Speed                    1.035      1.257      1.272      1.233   \n",
       "Temperature                      15.864     16.629     16.105     16.106   \n",
       "Globe Temperature                68.191     66.049     67.941     61.202   \n",
       "Wind Chill                       16.264     17.036     16.541     16.557   \n",
       "Relative Humidity               376.010    408.623    374.623    389.856   \n",
       "Heat Stress Index                14.997     15.439     15.356     15.118   \n",
       "Dew Point                         9.723      9.637     10.084     10.072   \n",
       "Psychro Wet Bulb Temperature      6.944      6.770      7.239      7.044   \n",
       "Station Pressure                 38.471     36.842     37.691     34.988   \n",
       "Barometric Pressure              38.468     36.829     37.676     34.952   \n",
       "Altitude                       2663.641   2545.708   2608.535   2419.724   \n",
       "Density Altitude              26510.044  26863.310  26986.603  26516.126   \n",
       "NA Wet Bulb Temperature          10.012      9.809     10.480      9.987   \n",
       "WBGT                             16.135     15.835     16.547     15.507   \n",
       "TWL                             814.767    790.069    766.534    616.010   \n",
       "Direction ‚ Mag               10105.677   9975.447   7704.620   8135.316   \n",
       "\n",
       "                               sensor_e  \n",
       "Direction ‚ True               9308.285  \n",
       "Wind Speed                        0.511  \n",
       "Crosswind Speed                   0.316  \n",
       "Headwind Speed                    0.319  \n",
       "Temperature                      19.043  \n",
       "Globe Temperature                63.216  \n",
       "Wind Chill                       19.137  \n",
       "Relative Humidity               406.494  \n",
       "Heat Stress Index                18.475  \n",
       "Dew Point                         9.423  \n",
       "Psychro Wet Bulb Temperature      6.997  \n",
       "Station Pressure                 38.940  \n",
       "Barometric Pressure              38.935  \n",
       "Altitude                       2692.353  \n",
       "Density Altitude              29714.928  \n",
       "NA Wet Bulb Temperature           9.432  \n",
       "WBGT                             15.490  \n",
       "TWL                            1289.913  \n",
       "Direction ‚ Mag                9268.008  "
      ]
     },
     "execution_count": 14,
     "metadata": {},
     "output_type": "execute_result"
    }
   ],
   "source": [
    "var_df_2"
   ]
  },
  {
   "cell_type": "code",
   "execution_count": 15,
   "metadata": {},
   "outputs": [],
   "source": [
    "i = 0\n",
    "std_dict = {} \n",
    "for sensor in sensor_list:\n",
    "    std_list = [] \n",
    "    sensor_name = name_list[i]\n",
    "    for measurement in to_numeric_columns:\n",
    "        stdev = round(np.std(sensor[measurement]),3)\n",
    "        std_list.append(stdev)\n",
    "    std_dict.update({sensor_name : std_list})\n",
    "    i += 1\n",
    "\n",
    "std_df = pd.DataFrame.from_dict(std_dict, orient = 'index', columns = to_numeric_columns)\n",
    "std_df2 = std_df.transpose()\n",
    "std_df2.to_csv('std_variables.csv')   "
   ]
  },
  {
   "cell_type": "code",
   "execution_count": 16,
   "metadata": {},
   "outputs": [
    {
     "data": {
      "text/html": [
       "<div>\n",
       "<style scoped>\n",
       "    .dataframe tbody tr th:only-of-type {\n",
       "        vertical-align: middle;\n",
       "    }\n",
       "\n",
       "    .dataframe tbody tr th {\n",
       "        vertical-align: top;\n",
       "    }\n",
       "\n",
       "    .dataframe thead th {\n",
       "        text-align: right;\n",
       "    }\n",
       "</style>\n",
       "<table border=\"1\" class=\"dataframe\">\n",
       "  <thead>\n",
       "    <tr style=\"text-align: right;\">\n",
       "      <th></th>\n",
       "      <th>sensor_a</th>\n",
       "      <th>sensor_b</th>\n",
       "      <th>sensor_c</th>\n",
       "      <th>sensor_d</th>\n",
       "      <th>sensor_e</th>\n",
       "    </tr>\n",
       "  </thead>\n",
       "  <tbody>\n",
       "    <tr>\n",
       "      <td>Direction ‚ True</td>\n",
       "      <td>100.523</td>\n",
       "      <td>99.866</td>\n",
       "      <td>87.751</td>\n",
       "      <td>90.170</td>\n",
       "      <td>96.460</td>\n",
       "    </tr>\n",
       "    <tr>\n",
       "      <td>Wind Speed</td>\n",
       "      <td>1.118</td>\n",
       "      <td>1.141</td>\n",
       "      <td>1.196</td>\n",
       "      <td>1.319</td>\n",
       "      <td>0.715</td>\n",
       "    </tr>\n",
       "    <tr>\n",
       "      <td>Crosswind Speed</td>\n",
       "      <td>0.962</td>\n",
       "      <td>0.937</td>\n",
       "      <td>1.021</td>\n",
       "      <td>1.205</td>\n",
       "      <td>0.562</td>\n",
       "    </tr>\n",
       "    <tr>\n",
       "      <td>Headwind Speed</td>\n",
       "      <td>1.017</td>\n",
       "      <td>1.121</td>\n",
       "      <td>1.127</td>\n",
       "      <td>1.110</td>\n",
       "      <td>0.565</td>\n",
       "    </tr>\n",
       "    <tr>\n",
       "      <td>Temperature</td>\n",
       "      <td>3.982</td>\n",
       "      <td>4.077</td>\n",
       "      <td>4.012</td>\n",
       "      <td>4.012</td>\n",
       "      <td>4.363</td>\n",
       "    </tr>\n",
       "    <tr>\n",
       "      <td>Globe Temperature</td>\n",
       "      <td>8.256</td>\n",
       "      <td>8.125</td>\n",
       "      <td>8.241</td>\n",
       "      <td>7.822</td>\n",
       "      <td>7.949</td>\n",
       "    </tr>\n",
       "    <tr>\n",
       "      <td>Wind Chill</td>\n",
       "      <td>4.032</td>\n",
       "      <td>4.127</td>\n",
       "      <td>4.066</td>\n",
       "      <td>4.068</td>\n",
       "      <td>4.374</td>\n",
       "    </tr>\n",
       "    <tr>\n",
       "      <td>Relative Humidity</td>\n",
       "      <td>19.387</td>\n",
       "      <td>20.210</td>\n",
       "      <td>19.351</td>\n",
       "      <td>19.741</td>\n",
       "      <td>20.158</td>\n",
       "    </tr>\n",
       "    <tr>\n",
       "      <td>Heat Stress Index</td>\n",
       "      <td>3.872</td>\n",
       "      <td>3.928</td>\n",
       "      <td>3.918</td>\n",
       "      <td>3.887</td>\n",
       "      <td>4.297</td>\n",
       "    </tr>\n",
       "    <tr>\n",
       "      <td>Dew Point</td>\n",
       "      <td>3.118</td>\n",
       "      <td>3.104</td>\n",
       "      <td>3.175</td>\n",
       "      <td>3.173</td>\n",
       "      <td>3.069</td>\n",
       "    </tr>\n",
       "    <tr>\n",
       "      <td>Psychro Wet Bulb Temperature</td>\n",
       "      <td>2.635</td>\n",
       "      <td>2.601</td>\n",
       "      <td>2.690</td>\n",
       "      <td>2.654</td>\n",
       "      <td>2.645</td>\n",
       "    </tr>\n",
       "    <tr>\n",
       "      <td>Station Pressure</td>\n",
       "      <td>6.201</td>\n",
       "      <td>6.069</td>\n",
       "      <td>6.138</td>\n",
       "      <td>5.914</td>\n",
       "      <td>6.239</td>\n",
       "    </tr>\n",
       "    <tr>\n",
       "      <td>Barometric Pressure</td>\n",
       "      <td>6.201</td>\n",
       "      <td>6.067</td>\n",
       "      <td>6.137</td>\n",
       "      <td>5.911</td>\n",
       "      <td>6.239</td>\n",
       "    </tr>\n",
       "    <tr>\n",
       "      <td>Altitude</td>\n",
       "      <td>51.600</td>\n",
       "      <td>50.445</td>\n",
       "      <td>51.063</td>\n",
       "      <td>49.181</td>\n",
       "      <td>51.877</td>\n",
       "    </tr>\n",
       "    <tr>\n",
       "      <td>Density Altitude</td>\n",
       "      <td>162.786</td>\n",
       "      <td>163.867</td>\n",
       "      <td>164.243</td>\n",
       "      <td>162.805</td>\n",
       "      <td>172.345</td>\n",
       "    </tr>\n",
       "    <tr>\n",
       "      <td>NA Wet Bulb Temperature</td>\n",
       "      <td>3.164</td>\n",
       "      <td>3.131</td>\n",
       "      <td>3.237</td>\n",
       "      <td>3.160</td>\n",
       "      <td>3.071</td>\n",
       "    </tr>\n",
       "    <tr>\n",
       "      <td>WBGT</td>\n",
       "      <td>4.016</td>\n",
       "      <td>3.979</td>\n",
       "      <td>4.067</td>\n",
       "      <td>3.937</td>\n",
       "      <td>3.935</td>\n",
       "    </tr>\n",
       "    <tr>\n",
       "      <td>TWL</td>\n",
       "      <td>28.538</td>\n",
       "      <td>28.102</td>\n",
       "      <td>27.681</td>\n",
       "      <td>24.815</td>\n",
       "      <td>35.908</td>\n",
       "    </tr>\n",
       "    <tr>\n",
       "      <td>Direction ‚ Mag</td>\n",
       "      <td>100.507</td>\n",
       "      <td>99.857</td>\n",
       "      <td>87.758</td>\n",
       "      <td>90.178</td>\n",
       "      <td>96.251</td>\n",
       "    </tr>\n",
       "  </tbody>\n",
       "</table>\n",
       "</div>"
      ],
      "text/plain": [
       "                              sensor_a  sensor_b  sensor_c  sensor_d  sensor_e\n",
       "Direction ‚ True               100.523    99.866    87.751    90.170    96.460\n",
       "Wind Speed                       1.118     1.141     1.196     1.319     0.715\n",
       "Crosswind Speed                  0.962     0.937     1.021     1.205     0.562\n",
       "Headwind Speed                   1.017     1.121     1.127     1.110     0.565\n",
       "Temperature                      3.982     4.077     4.012     4.012     4.363\n",
       "Globe Temperature                8.256     8.125     8.241     7.822     7.949\n",
       "Wind Chill                       4.032     4.127     4.066     4.068     4.374\n",
       "Relative Humidity               19.387    20.210    19.351    19.741    20.158\n",
       "Heat Stress Index                3.872     3.928     3.918     3.887     4.297\n",
       "Dew Point                        3.118     3.104     3.175     3.173     3.069\n",
       "Psychro Wet Bulb Temperature     2.635     2.601     2.690     2.654     2.645\n",
       "Station Pressure                 6.201     6.069     6.138     5.914     6.239\n",
       "Barometric Pressure              6.201     6.067     6.137     5.911     6.239\n",
       "Altitude                        51.600    50.445    51.063    49.181    51.877\n",
       "Density Altitude               162.786   163.867   164.243   162.805   172.345\n",
       "NA Wet Bulb Temperature          3.164     3.131     3.237     3.160     3.071\n",
       "WBGT                             4.016     3.979     4.067     3.937     3.935\n",
       "TWL                             28.538    28.102    27.681    24.815    35.908\n",
       "Direction ‚ Mag                100.507    99.857    87.758    90.178    96.251"
      ]
     },
     "execution_count": 16,
     "metadata": {},
     "output_type": "execute_result"
    }
   ],
   "source": [
    "std_df2"
   ]
  },
  {
   "cell_type": "code",
   "execution_count": 17,
   "metadata": {},
   "outputs": [],
   "source": [
    "Wind_speed = pd.concat([sensor_a['Wind Speed'], sensor_b['Wind Speed'], sensor_c['Wind Speed'],\n",
    "                       sensor_d['Wind Speed'], sensor_e['Wind Speed']], \n",
    "                       axis=1, keys=['A', 'B', 'C', 'D', 'E'])"
   ]
  },
  {
   "cell_type": "code",
   "execution_count": 34,
   "metadata": {},
   "outputs": [
    {
     "data": {
      "image/png": "[encoded data removed]",
      "text/plain": [
       "<Figure size 432x288 with 1 Axes>"
      ]
     },
     "metadata": {
      "needs_background": "light"
     },
     "output_type": "display_data"
    }
   ],
   "source": [
    "ax = sns.boxplot(data=Wind_speed, palette=\"Set3\")\n",
    "ax.set(xlabel = 'Sensor', ylabel = 'Wind Speed [m/s]')\n",
    "plt.savefig('Boxplot of wind speed')"
   ]
  },
  {
   "cell_type": "code",
   "execution_count": 19,
   "metadata": {},
   "outputs": [],
   "source": [
    "Temperature = pd.concat([sensor_a['Temperature'], sensor_b['Temperature'], sensor_c['Temperature'],\n",
    "                       sensor_d['Temperature'], sensor_e['Temperature']], \n",
    "                       axis=1, keys=['A', 'B', 'C', 'D', 'E']).dropna()"
   ]
  },
  {
   "cell_type": "code",
   "execution_count": 20,
   "metadata": {},
   "outputs": [
    {
     "data": {
      "image/png": "[encoded data removed]",
      "text/plain": [
       "<Figure size 432x288 with 1 Axes>"
      ]
     },
     "metadata": {
      "needs_background": "light"
     },
     "output_type": "display_data"
    }
   ],
   "source": [
    "\n",
    "ax = sns.histplot(data=Temperature, bins = 50, palette=\"Set3\", multiple=\"stack\")\n",
    "ax.set(xlabel = 'Temperature [deg C]')\n",
    "plt.savefig('Histogram of temperature per sensor with 50 bins')\n",
    "\n",
    "plt.show()\n"
   ]
  },
  {
   "cell_type": "code",
   "execution_count": 28,
   "metadata": {},
   "outputs": [
    {
     "data": {
      "image/png": "[encoded data removed]",
      "text/plain": [
       "<Figure size 432x288 with 1 Axes>"
      ]
     },
     "metadata": {
      "needs_background": "light"
     },
     "output_type": "display_data"
    }
   ],
   "source": [
    "ax = sns.histplot(data=Temperature, bins = 5, palette=\"Set3\", multiple=\"stack\")\n",
    "ax.set(xlabel = 'Temperature [deg C]')\n",
    "\n",
    "plt.savefig('Histogram of temperature per sensor with 5 bins')"
   ]
  },
  {
   "cell_type": "code",
   "execution_count": 29,
   "metadata": {
    "scrolled": true
   },
   "outputs": [
    {
     "data": {
      "image/png": "[encoded data removed]",
      "text/plain": [
       "<Figure size 403.75x360 with 1 Axes>"
      ]
     },
     "metadata": {
      "needs_background": "light"
     },
     "output_type": "display_data"
    }
   ],
   "source": [
    "ax = sns.displot(data=Temperature, element = 'poly', palette=\"Set3\", bins = 27)\n",
    "ax.set(title = 'Frequency polygons of temperature', xlabel = 'Temperature [deg C]')\n",
    "plt.tight_layout()\n",
    "plt.savefig('polygon hist temperature')"
   ]
  },
  {
   "cell_type": "code",
   "execution_count": 30,
   "metadata": {},
   "outputs": [],
   "source": [
    "wind_direction = pd.concat([sensor_a['Direction ‚ True'], sensor_b['Direction ‚ True'], \n",
    "                        sensor_c['Direction ‚ True'], sensor_d['Direction ‚ True'], \n",
    "                        sensor_e['Direction ‚ True']], \n",
    "                       axis=1, keys=['A', 'B', 'C', 'D', 'E'])"
   ]
  },
  {
   "cell_type": "code",
   "execution_count": 31,
   "metadata": {},
   "outputs": [
    {
     "data": {
      "text/html": [
       "<div>\n",
       "<style scoped>\n",
       "    .dataframe tbody tr th:only-of-type {\n",
       "        vertical-align: middle;\n",
       "    }\n",
       "\n",
       "    .dataframe tbody tr th {\n",
       "        vertical-align: top;\n",
       "    }\n",
       "\n",
       "    .dataframe thead th {\n",
       "        text-align: right;\n",
       "    }\n",
       "</style>\n",
       "<table border=\"1\" class=\"dataframe\">\n",
       "  <thead>\n",
       "    <tr style=\"text-align: right;\">\n",
       "      <th></th>\n",
       "      <th>A</th>\n",
       "      <th>B</th>\n",
       "      <th>C</th>\n",
       "      <th>D</th>\n",
       "      <th>E</th>\n",
       "    </tr>\n",
       "  </thead>\n",
       "  <tbody>\n",
       "    <tr>\n",
       "      <td>1</td>\n",
       "      <td>327.0</td>\n",
       "      <td>346</td>\n",
       "      <td>4.0</td>\n",
       "      <td>334.0</td>\n",
       "      <td>62.0</td>\n",
       "    </tr>\n",
       "    <tr>\n",
       "      <td>2</td>\n",
       "      <td>323.0</td>\n",
       "      <td>351</td>\n",
       "      <td>5.0</td>\n",
       "      <td>334.0</td>\n",
       "      <td>72.0</td>\n",
       "    </tr>\n",
       "    <tr>\n",
       "      <td>3</td>\n",
       "      <td>325.0</td>\n",
       "      <td>15</td>\n",
       "      <td>6.0</td>\n",
       "      <td>333.0</td>\n",
       "      <td>73.0</td>\n",
       "    </tr>\n",
       "    <tr>\n",
       "      <td>4</td>\n",
       "      <td>322.0</td>\n",
       "      <td>16</td>\n",
       "      <td>3.0</td>\n",
       "      <td>331.0</td>\n",
       "      <td>73.0</td>\n",
       "    </tr>\n",
       "    <tr>\n",
       "      <td>5</td>\n",
       "      <td>321.0</td>\n",
       "      <td>21</td>\n",
       "      <td>4.0</td>\n",
       "      <td>332.0</td>\n",
       "      <td>232.0</td>\n",
       "    </tr>\n",
       "    <tr>\n",
       "      <td>...</td>\n",
       "      <td>...</td>\n",
       "      <td>...</td>\n",
       "      <td>...</td>\n",
       "      <td>...</td>\n",
       "      <td>...</td>\n",
       "    </tr>\n",
       "    <tr>\n",
       "      <td>2472</td>\n",
       "      <td>140.0</td>\n",
       "      <td>163</td>\n",
       "      <td>165.0</td>\n",
       "      <td>154.0</td>\n",
       "      <td>250.0</td>\n",
       "    </tr>\n",
       "    <tr>\n",
       "      <td>2473</td>\n",
       "      <td>144.0</td>\n",
       "      <td>133</td>\n",
       "      <td>164.0</td>\n",
       "      <td>153.0</td>\n",
       "      <td>250.0</td>\n",
       "    </tr>\n",
       "    <tr>\n",
       "      <td>2474</td>\n",
       "      <td>141.0</td>\n",
       "      <td>107</td>\n",
       "      <td>143.0</td>\n",
       "      <td>162.0</td>\n",
       "      <td>250.0</td>\n",
       "    </tr>\n",
       "    <tr>\n",
       "      <td>2475</td>\n",
       "      <td>160.0</td>\n",
       "      <td>127</td>\n",
       "      <td>NaN</td>\n",
       "      <td>NaN</td>\n",
       "      <td>248.0</td>\n",
       "    </tr>\n",
       "    <tr>\n",
       "      <td>2476</td>\n",
       "      <td>146.0</td>\n",
       "      <td>126</td>\n",
       "      <td>NaN</td>\n",
       "      <td>NaN</td>\n",
       "      <td>NaN</td>\n",
       "    </tr>\n",
       "  </tbody>\n",
       "</table>\n",
       "<p>2476 rows × 5 columns</p>\n",
       "</div>"
      ],
      "text/plain": [
       "          A    B      C      D      E\n",
       "1     327.0  346    4.0  334.0   62.0\n",
       "2     323.0  351    5.0  334.0   72.0\n",
       "3     325.0   15    6.0  333.0   73.0\n",
       "4     322.0   16    3.0  331.0   73.0\n",
       "5     321.0   21    4.0  332.0  232.0\n",
       "...     ...  ...    ...    ...    ...\n",
       "2472  140.0  163  165.0  154.0  250.0\n",
       "2473  144.0  133  164.0  153.0  250.0\n",
       "2474  141.0  107  143.0  162.0  250.0\n",
       "2475  160.0  127    NaN    NaN  248.0\n",
       "2476  146.0  126    NaN    NaN    NaN\n",
       "\n",
       "[2476 rows x 5 columns]"
      ]
     },
     "execution_count": 31,
     "metadata": {},
     "output_type": "execute_result"
    }
   ],
   "source": [
    "wind_direction"
   ]
  },
  {
   "cell_type": "code",
   "execution_count": 33,
   "metadata": {},
   "outputs": [
    {
     "data": {
      "image/png": "[encoded data removed]",
      "text/plain": [
       "<Figure size 432x288 with 1 Axes>"
      ]
     },
     "metadata": {
      "needs_background": "light"
     },
     "output_type": "display_data"
    }
   ],
   "source": [
    "ax = sns.boxplot(data=wind_direction, palette=\"Set3\")\n",
    "ax.set(xlabel = 'Sensor', ylabel = 'Wind Direction [deg]')\n",
    "plt.savefig('Boxplot of the wind direction') "
   ]
  },
  {
   "cell_type": "code",
   "execution_count": null,
   "metadata": {},
   "outputs": [],
   "source": [
    "ax = sns.boxplot(data=Temperature, palette=\"Set3\")\n",
    "ax.set(xlabel = 'Sensor', ylabel = 'Temperature [deg C]', \n",
    "       title = 'Boxplot of temperature in degrees C per sensor')\n",
    "plt.savefig('Boxplot of temperature') "
   ]
  },
  {
   "cell_type": "code",
   "execution_count": 129,
   "metadata": {},
   "outputs": [
    {
     "data": {
      "image/png": "[encoded data removed]",
      "text/plain": [
       "<Figure size 1440x360 with 3 Axes>"
      ]
     },
     "metadata": {
      "needs_background": "light"
     },
     "output_type": "display_data"
    }
   ],
   "source": [
    "fig , axes = plt.subplots(nrows = 1, ncols = 3, figsize=(20,5))\n",
    "\n",
    "plt.sca(axes[0])\n",
    "ax = sns.boxplot(data=Wind_speed, palette=\"Set3\")\n",
    "ax.set(xlabel = 'Sensor', ylabel = 'Wind Speed [m/s]', \n",
    "      title = 'Boxplot of the wind speed in m/s per sensor')\n",
    "\n",
    "plt.sca(axes[1])\n",
    "ax = sns.boxplot(data=wind_direction, palette=\"Set3\")\n",
    "ax.set(xlabel = 'Sensor', ylabel = 'Wind Direction [deg]',\n",
    "      title = 'Boxplot of the wind direction in degrees per sensor') \n",
    "\n",
    "plt.sca(axes[2])\n",
    "ax = sns.boxplot(data=Temperature, palette=\"Set3\")\n",
    "ax.set(xlabel = 'Sensor', ylabel = 'Temperature [deg C]', \n",
    "       title = 'Boxplot of temperature in degrees C per sensor')\n",
    " \n",
    "plt.savefig('Boxplots') \n"
   ]
  },
  {
   "cell_type": "code",
   "execution_count": 35,
   "metadata": {},
   "outputs": [
    {
     "data": {
      "image/png": "[encoded data removed]",
      "text/plain": [
       "<Figure size 432x288 with 1 Axes>"
      ]
     },
     "metadata": {
      "needs_background": "light"
     },
     "output_type": "display_data"
    }
   ],
   "source": [
    "ax = sns.boxplot(data=Temperature, palette=\"Set3\")\n",
    "ax.set(xlabel = 'Sensor', ylabel = 'Temperature [deg C]')\n",
    "plt.savefig('Boxplot of temperature') "
   ]
  },
  {
   "cell_type": "markdown",
   "metadata": {},
   "source": [
    "## A2\n",
    "\n",
    "##### Temperature"
   ]
  },
  {
   "cell_type": "code",
   "execution_count": 37,
   "metadata": {},
   "outputs": [],
   "source": [
    "pmf_a = sensor_a['Temperature'].value_counts().sort_index() / len(sensor_a['Temperature'])\n",
    "pmf_b = sensor_b['Temperature'].value_counts().sort_index() / len(sensor_b['Temperature'])\n",
    "pmf_c = sensor_c['Temperature'].value_counts().sort_index() / len(sensor_c['Temperature'])\n",
    "pmf_d = sensor_d['Temperature'].value_counts().sort_index() / len(sensor_d['Temperature'])\n",
    "pmf_e = sensor_e['Temperature'].value_counts().sort_index() / len(sensor_e['Temperature'])"
   ]
  },
  {
   "cell_type": "code",
   "execution_count": 38,
   "metadata": {},
   "outputs": [],
   "source": [
    "#df1 = pd.DataFrame(data=pmf_as.index, columns=['Temperature [deg C]'])\n",
    "#df2 = pd.DataFrame(data=pmf_as.values, columns=['P'])\n",
    "#pmf_a = pd.merge(df1, df2, left_index=True, right_index=True)"
   ]
  },
  {
   "cell_type": "code",
   "execution_count": 39,
   "metadata": {},
   "outputs": [
    {
     "data": {
      "image/png": "[encoded data removed]",
      "text/plain": [
       "<Figure size 1440x360 with 5 Axes>"
      ]
     },
     "metadata": {
      "needs_background": "light"
     },
     "output_type": "display_data"
    }
   ],
   "source": [
    "fig , axes = plt.subplots(nrows = 1, ncols = 5, figsize=(20,5))\n",
    "plt.sca(axes[0])\n",
    "plt.bar(pmf_a.index, pmf_a.values)\n",
    "plt.title('Sensor A')\n",
    "plt.xlabel('Temperature')\n",
    "plt.ylabel('Probability')\n",
    "plt.xticks(np.arange(min(sensor_a.Temperature), max(sensor_a.Temperature)+1, 5.0))\n",
    "\n",
    "\n",
    "plt.sca(axes[1])\n",
    "plt.bar(pmf_b.index, pmf_b.values)\n",
    "plt.title('Sensor B')\n",
    "plt.xlabel('Temperature')\n",
    "plt.ylabel('Probability')\n",
    "plt.xticks(np.arange(min(sensor_b.Temperature), max(sensor_b.Temperature)+1, 5.0))\n",
    "\n",
    "plt.sca(axes[2])\n",
    "plt.bar(pmf_c.index, pmf_c.values)\n",
    "plt.title('Sensor C')\n",
    "plt.xlabel('Temperature')\n",
    "plt.ylabel('Probability')\n",
    "plt.xticks(np.arange(min(sensor_c.Temperature), max(sensor_c.Temperature)+1, 5.0))\n",
    "plt.yticks([0.000, 0.005, 0.010, 0.015, 0.020])\n",
    "\n",
    "plt.sca(axes[3])\n",
    "plt.bar(pmf_d.index, pmf_d.values)\n",
    "plt.title('Sensor D')\n",
    "plt.xlabel('Temperature')\n",
    "plt.ylabel('Probability')\n",
    "plt.xticks(np.arange(min(sensor_d.Temperature), max(sensor_d.Temperature)+1, 5.0))\n",
    "\n",
    "plt.sca(axes[4])\n",
    "plt.bar(pmf_e.index, pmf_e.values)\n",
    "plt.title('Sensor E')\n",
    "plt.xlabel('Temperature [deg C]')\n",
    "plt.ylabel('Probability')\n",
    "plt.xticks(np.arange(min(sensor_e.Temperature), max(sensor_e.Temperature)+1, 5.0))\n",
    "\n",
    "\n",
    "fig.suptitle('PMF of the temperature per sensor', fontsize = 15, y = 1.08)\n",
    "plt.tight_layout()\n",
    "plt.savefig('PMF of temperature per sensor') "
   ]
  },
  {
   "cell_type": "markdown",
   "metadata": {},
   "source": [
    "#### PDF"
   ]
  },
  {
   "cell_type": "code",
   "execution_count": 30,
   "metadata": {},
   "outputs": [
    {
     "data": {
      "image/png": "[encoded data removed]",
      "text/plain": [
       "<Figure size 1440x360 with 5 Axes>"
      ]
     },
     "metadata": {
      "needs_background": "light"
     },
     "output_type": "display_data"
    }
   ],
   "source": [
    "fig , axes = plt.subplots(nrows = 1, ncols = 5, figsize=(20,5))\n",
    "plt.sca(axes[0])\n",
    "ax = sensor_a['Temperature'].plot(kind='density')\n",
    "ax.set(xlabel = 'Temperature')\n",
    "plt.title('Sensor A')\n",
    "\n",
    "plt.sca(axes[1])\n",
    "ax = sensor_b['Temperature'].plot(kind='density')\n",
    "ax.set(xlabel = 'Temperature')\n",
    "plt.title('Sensor B')\n",
    "\n",
    "plt.sca(axes[2])\n",
    "ax = sensor_c['Temperature'].plot(kind='density')\n",
    "ax.set(xlabel = 'Temperature')\n",
    "plt.title('Sensor C')\n",
    "\n",
    "plt.sca(axes[3])\n",
    "ax = sensor_d['Temperature'].plot(kind='density')\n",
    "ax.set(xlabel = 'Temperature')\n",
    "plt.title('Sensor D')\n",
    "\n",
    "plt.sca(axes[4])\n",
    "ax = sensor_e['Temperature'].plot(kind='density')\n",
    "ax.set(xlabel = 'Temperature')\n",
    "plt.title('Sensor E')\n",
    "\n",
    "plt.tight_layout()\n",
    "fig.suptitle('PDF of the temperature per sensor', fontsize = 15, y = 1.08)\n",
    "\n",
    "plt.savefig('PDF of temperature per sensor') "
   ]
  },
  {
   "cell_type": "markdown",
   "metadata": {},
   "source": [
    "### CDF"
   ]
  },
  {
   "cell_type": "code",
   "execution_count": 31,
   "metadata": {},
   "outputs": [
    {
     "data": {
      "image/png": "[encoded data removed]",
      "text/plain": [
       "<Figure size 1440x360 with 5 Axes>"
      ]
     },
     "metadata": {
      "needs_background": "light"
     },
     "output_type": "display_data"
    }
   ],
   "source": [
    "fig , axes = plt.subplots(nrows = 1, ncols = 5, figsize=(20,5))\n",
    "plt.sca(axes[0])\n",
    "a1 = plt.hist(x=sensor_a['Temperature'], bins=50, cumulative=True, density = True, alpha=0.7, rwidth=0.85)\n",
    "plt.plot(a1[1][1:]-(a1[1][1:]-a1[1][:-1])/2,a1[0], color='k')\n",
    "plt.title('Sensor A')\n",
    "plt.xlabel('Temperature')\n",
    "plt.ylabel('Density')\n",
    "\n",
    "plt.sca(axes[1])\n",
    "b1 = plt.hist(x=sensor_b['Temperature'], bins=50, cumulative=True, density = True, alpha=0.7, rwidth=0.85)\n",
    "plt.plot(b1[1][1:]-(b1[1][1:]-b1[1][:-1])/2,b1[0], color='k')\n",
    "plt.title('Sensor B')\n",
    "plt.xlabel('Temperature')\n",
    "plt.ylabel('Density')\n",
    "\n",
    "plt.sca(axes[2])\n",
    "c1 = plt.hist(x=sensor_c['Temperature'], bins=50, cumulative=True, density = True, alpha=0.7, rwidth=0.85)\n",
    "plt.plot(c1[1][1:]-(c1[1][1:]-c1[1][:-1])/2,c1[0], color='k')\n",
    "plt.title('Sensor C')\n",
    "plt.xlabel('Temperature')\n",
    "plt.ylabel('Density')\n",
    "\n",
    "plt.sca(axes[3])\n",
    "d1 = plt.hist(x=sensor_d['Temperature'], bins=50, cumulative=True, density = True ,alpha=0.7, rwidth=0.85)\n",
    "plt.plot(d1[1][1:]-(d1[1][1:]-a1[1][:-1])/2,d1[0], color='k')\n",
    "plt.title('Sensor D')\n",
    "plt.xlabel('Temperature')\n",
    "plt.ylabel('Density')\n",
    "\n",
    "plt.sca(axes[4])\n",
    "e1 = plt.hist(x=sensor_d['Temperature'], bins=50, cumulative=True, density = True, alpha=0.7, rwidth=0.85)\n",
    "plt.plot(e1[1][1:]-(e1[1][1:]-e1[1][:-1])/2,e1[0], color='k')\n",
    "plt.title('Sensor E')\n",
    "plt.xlabel('Temperature')\n",
    "plt.ylabel('Density')\n",
    "\n",
    "plt.tight_layout()\n",
    "fig.suptitle('CDF of the temperature per sensor', fontsize = 15, y = 1.08)\n",
    "plt.savefig('CDF of temperature per sensor') "
   ]
  },
  {
   "cell_type": "markdown",
   "metadata": {},
   "source": [
    "### Windspeed"
   ]
  },
  {
   "cell_type": "code",
   "execution_count": 32,
   "metadata": {},
   "outputs": [
    {
     "name": "stderr",
     "output_type": "stream",
     "text": [
      "/Users/louise/opt/anaconda3/lib/python3.7/site-packages/seaborn/distributions.py:2551: FutureWarning: `distplot` is a deprecated function and will be removed in a future version. Please adapt your code to use either `displot` (a figure-level function with similar flexibility) or `histplot` (an axes-level function for histograms).\n",
      "  warnings.warn(msg, FutureWarning)\n",
      "/Users/louise/opt/anaconda3/lib/python3.7/site-packages/seaborn/distributions.py:2551: FutureWarning: `distplot` is a deprecated function and will be removed in a future version. Please adapt your code to use either `displot` (a figure-level function with similar flexibility) or `histplot` (an axes-level function for histograms).\n",
      "  warnings.warn(msg, FutureWarning)\n",
      "/Users/louise/opt/anaconda3/lib/python3.7/site-packages/seaborn/distributions.py:2551: FutureWarning: `distplot` is a deprecated function and will be removed in a future version. Please adapt your code to use either `displot` (a figure-level function with similar flexibility) or `histplot` (an axes-level function for histograms).\n",
      "  warnings.warn(msg, FutureWarning)\n",
      "/Users/louise/opt/anaconda3/lib/python3.7/site-packages/seaborn/distributions.py:2551: FutureWarning: `distplot` is a deprecated function and will be removed in a future version. Please adapt your code to use either `displot` (a figure-level function with similar flexibility) or `histplot` (an axes-level function for histograms).\n",
      "  warnings.warn(msg, FutureWarning)\n",
      "/Users/louise/opt/anaconda3/lib/python3.7/site-packages/seaborn/distributions.py:2551: FutureWarning: `distplot` is a deprecated function and will be removed in a future version. Please adapt your code to use either `displot` (a figure-level function with similar flexibility) or `histplot` (an axes-level function for histograms).\n",
      "  warnings.warn(msg, FutureWarning)\n"
     ]
    },
    {
     "data": {
      "image/png": "[encoded data removed]",
      "text/plain": [
       "<Figure size 1440x360 with 5 Axes>"
      ]
     },
     "metadata": {
      "needs_background": "light"
     },
     "output_type": "display_data"
    }
   ],
   "source": [
    "fig , axes = plt.subplots(nrows = 1, ncols = 5, figsize=(20,5))\n",
    "\n",
    "plt.sca(axes[0])\n",
    "ax = sns.distplot(Wind_speed.A, kde = True, norm_hist = True)\n",
    "ax.set(xlabel = 'wind speed [m/s]')\n",
    "plt.title('Sensor A')\n",
    "\n",
    "plt.sca(axes[1])\n",
    "ax = sns.distplot(Wind_speed.B, kde = True, norm_hist = True)\n",
    "ax.set(xlabel = 'wind speed [m/s]')\n",
    "plt.title('Sensor B')\n",
    "\n",
    "plt.sca(axes[2])\n",
    "ax = sns.distplot(Wind_speed.C, kde = True, norm_hist = True)\n",
    "ax.set(xlabel = 'wind speed [m/s]')\n",
    "plt.title('Sensor C')\n",
    "\n",
    "plt.sca(axes[3])\n",
    "ax = sns.distplot(Wind_speed.D, kde = True, norm_hist = True)\n",
    "ax.set(xlabel = 'wind speed [m/s]')\n",
    "plt.title('Sensor D')\n",
    "\n",
    "plt.sca(axes[4])\n",
    "ax = sns.distplot(Wind_speed.E, kde = True, norm_hist = True)\n",
    "ax.set(xlabel = 'wind speed [m/s]')\n",
    "plt.title('Sensor E')\n",
    "\n",
    "plt.tight_layout()\n",
    "fig.suptitle('KDE and PDF of wind speed per sensor', fontsize = 15, y = 1.08)\n",
    "\n",
    "plt.savefig('KDE and PDF of wind speed per sensor') "
   ]
  },
  {
   "cell_type": "markdown",
   "metadata": {},
   "source": [
    "### A3"
   ]
  },
  {
   "cell_type": "markdown",
   "metadata": {},
   "source": [
    "make of equal lenght "
   ]
  },
  {
   "cell_type": "code",
   "execution_count": 48,
   "metadata": {},
   "outputs": [],
   "source": [
    "Wet_Bulb_Globe = pd.concat([sensor_a['WBGT'], sensor_b['WBGT'], \n",
    "                        sensor_c['WBGT'], sensor_d['WBGT'], \n",
    "                        sensor_e['WBGT']], \n",
    "                       axis=1, keys=['A', 'B', 'C', 'D', 'E']).dropna()"
   ]
  },
  {
   "cell_type": "code",
   "execution_count": 49,
   "metadata": {},
   "outputs": [],
   "source": [
    "Crosswind_speed = pd.concat([sensor_a['Crosswind Speed'], sensor_b['Crosswind Speed'], \n",
    "                        sensor_c['Crosswind Speed'], sensor_d['Crosswind Speed'], \n",
    "                        sensor_e['Crosswind Speed']], \n",
    "                       axis=1, keys=['A', 'B', 'C', 'D', 'E']).dropna()"
   ]
  },
  {
   "cell_type": "code",
   "execution_count": 50,
   "metadata": {},
   "outputs": [],
   "source": [
    "# make correlations "
   ]
  },
  {
   "cell_type": "code",
   "execution_count": 51,
   "metadata": {},
   "outputs": [],
   "source": [
    "sensor_list = ['A', 'B', 'C', 'D', 'E']\n",
    "pearson_dict_W = {} \n",
    "spearman_dict_W = {} \n",
    "\n",
    "while len(sensor_list) > 1:\n",
    "    sensor1 = sensor_list[0]\n",
    "    for sensor2 in sensor_list:\n",
    "        if sensor1 != sensor2: \n",
    "            pearson, _ = stats.pearsonr(Wet_Bulb_Globe[sensor1], Wet_Bulb_Globe[sensor2])\n",
    "            key = str(sensor1) + 'x' + str(sensor2)\n",
    "            pearson_dict_W[key] = pearson\n",
    "\n",
    "            spearman, _ = stats.spearmanr(Wet_Bulb_Globe[sensor1], Wet_Bulb_Globe[sensor2])\n",
    "            key = str(sensor1) + 'x' + str(sensor2)\n",
    "            spearman_dict_W[key] = spearman\n",
    "    sensor_list.remove(sensor1)\n",
    "        "
   ]
  },
  {
   "cell_type": "code",
   "execution_count": 52,
   "metadata": {},
   "outputs": [],
   "source": [
    "sensor_list = ['A', 'B', 'C', 'D', 'E']\n",
    "pearson_dict_T = {} \n",
    "spearman_dict_T = {} \n",
    "\n",
    "while len(sensor_list) > 1:\n",
    "    sensor1 = sensor_list[0]\n",
    "    for sensor2 in sensor_list:\n",
    "        if sensor1 != sensor2: \n",
    "            pearson, _ = stats.pearsonr(Temperature[sensor1], Temperature[sensor2])\n",
    "            key = str(sensor1) + 'x' + str(sensor2)\n",
    "            pearson_dict_T[key] = pearson\n",
    "            \n",
    "            spearman, _ = stats.spearmanr(Temperature[sensor1], Temperature[sensor2])\n",
    "            key = str(sensor1) + 'x' + str(sensor2)\n",
    "            spearman_dict_T[key] = spearman\n",
    "    sensor_list.remove(sensor1)"
   ]
  },
  {
   "cell_type": "code",
   "execution_count": 53,
   "metadata": {},
   "outputs": [],
   "source": [
    "sensor_list = ['A', 'B', 'C', 'D', 'E']\n",
    "pearson_dict_C = {} \n",
    "spearman_dict_C = {} \n",
    "\n",
    "while len(sensor_list) > 1:\n",
    "    sensor1 = sensor_list[0]\n",
    "    for sensor2 in sensor_list:\n",
    "        if sensor1 != sensor2: \n",
    "            pearson, _ = stats.pearsonr(Crosswind_speed[sensor1], Crosswind_speed[sensor2])\n",
    "            key = str(sensor1) + 'x' + str(sensor2)\n",
    "            pearson_dict_C[key] = pearson\n",
    "\n",
    "            spearman, _ = stats.spearmanr(Crosswind_speed[sensor1], Crosswind_speed[sensor2])\n",
    "            key = str(sensor1) + 'x' + str(sensor2)\n",
    "            spearman_dict_C[key] = spearman\n",
    "    sensor_list.remove(sensor1)"
   ]
  },
  {
   "cell_type": "code",
   "execution_count": 54,
   "metadata": {},
   "outputs": [
    {
     "data": {
      "text/plain": [
       "{'AxB': 0.9873816048765109,\n",
       " 'AxC': 0.9880913733962015,\n",
       " 'AxD': 0.9843597065082936,\n",
       " 'AxE': 0.971679562373189,\n",
       " 'BxC': 0.9852451592225194,\n",
       " 'BxD': 0.9857684913050068,\n",
       " 'BxE': 0.9767727006658334,\n",
       " 'CxD': 0.9881855891390963,\n",
       " 'CxE': 0.9769209774377852,\n",
       " 'DxE': 0.9753775047693783}"
      ]
     },
     "execution_count": 54,
     "metadata": {},
     "output_type": "execute_result"
    }
   ],
   "source": [
    "spearman_dict_T"
   ]
  },
  {
   "cell_type": "code",
   "execution_count": 55,
   "metadata": {},
   "outputs": [
    {
     "data": {
      "text/plain": [
       "{'AxB': 0.9880982473187296,\n",
       " 'AxC': 0.9886050426862552,\n",
       " 'AxD': 0.9856094734226308,\n",
       " 'AxE': 0.9692090077044053,\n",
       " 'BxC': 0.9844805788829022,\n",
       " 'BxD': 0.986260946358126,\n",
       " 'BxE': 0.9720922181749745,\n",
       " 'CxD': 0.9887428724207228,\n",
       " 'CxE': 0.9720959224000902,\n",
       " 'DxE': 0.9713709593108375}"
      ]
     },
     "execution_count": 55,
     "metadata": {},
     "output_type": "execute_result"
    }
   ],
   "source": [
    "pearson_dict_T"
   ]
  },
  {
   "cell_type": "code",
   "execution_count": 58,
   "metadata": {},
   "outputs": [
    {
     "data": {
      "text/plain": [
       "{'AxB': 0.9921350467408518,\n",
       " 'AxC': 0.9923258587656831,\n",
       " 'AxD': 0.9880799404002999,\n",
       " 'AxE': 0.9493506210630169,\n",
       " 'BxC': 0.9896405677313908,\n",
       " 'BxD': 0.987090581281019,\n",
       " 'BxE': 0.9570595307172636,\n",
       " 'CxD': 0.9914219338897717,\n",
       " 'CxE': 0.9487535512472385,\n",
       " 'DxE': 0.9480453595526321}"
      ]
     },
     "execution_count": 58,
     "metadata": {},
     "output_type": "execute_result"
    }
   ],
   "source": [
    "spearman_dict_W"
   ]
  },
  {
   "cell_type": "code",
   "execution_count": 57,
   "metadata": {},
   "outputs": [
    {
     "data": {
      "text/plain": [
       "{'AxB': 0.9912595765161212,\n",
       " 'AxC': 0.9918925016956912,\n",
       " 'AxD': 0.9870105734406007,\n",
       " 'AxE': 0.9498297565562278,\n",
       " 'BxC': 0.9897257059760783,\n",
       " 'BxD': 0.9878602545988994,\n",
       " 'BxE': 0.954410891800633,\n",
       " 'CxD': 0.9918205586342296,\n",
       " 'CxE': 0.9492741212178121,\n",
       " 'DxE': 0.9480911374215399}"
      ]
     },
     "execution_count": 57,
     "metadata": {},
     "output_type": "execute_result"
    }
   ],
   "source": [
    "pearson_dict_W"
   ]
  },
  {
   "cell_type": "code",
   "execution_count": 40,
   "metadata": {},
   "outputs": [],
   "source": [
    "sensor_list = ['A', 'B', 'C', 'D', 'E']"
   ]
  },
  {
   "cell_type": "code",
   "execution_count": 41,
   "metadata": {},
   "outputs": [
    {
     "name": "stderr",
     "output_type": "stream",
     "text": [
      "/Users/louise/opt/anaconda3/lib/python3.7/site-packages/seaborn/_decorators.py:43: FutureWarning: Pass the following variables as keyword args: x, y. From version 0.12, the only valid positional argument will be `data`, and passing other arguments without an explicit keyword will result in an error or misinterpretation.\n",
      "  FutureWarning\n",
      "/Users/louise/opt/anaconda3/lib/python3.7/site-packages/seaborn/_decorators.py:43: FutureWarning: Pass the following variables as keyword args: x, y. From version 0.12, the only valid positional argument will be `data`, and passing other arguments without an explicit keyword will result in an error or misinterpretation.\n",
      "  FutureWarning\n",
      "/Users/louise/opt/anaconda3/lib/python3.7/site-packages/seaborn/_decorators.py:43: FutureWarning: Pass the following variables as keyword args: x, y. From version 0.12, the only valid positional argument will be `data`, and passing other arguments without an explicit keyword will result in an error or misinterpretation.\n",
      "  FutureWarning\n",
      "/Users/louise/opt/anaconda3/lib/python3.7/site-packages/seaborn/_decorators.py:43: FutureWarning: Pass the following variables as keyword args: x, y. From version 0.12, the only valid positional argument will be `data`, and passing other arguments without an explicit keyword will result in an error or misinterpretation.\n",
      "  FutureWarning\n",
      "/Users/louise/opt/anaconda3/lib/python3.7/site-packages/seaborn/_decorators.py:43: FutureWarning: Pass the following variables as keyword args: x, y. From version 0.12, the only valid positional argument will be `data`, and passing other arguments without an explicit keyword will result in an error or misinterpretation.\n",
      "  FutureWarning\n",
      "/Users/louise/opt/anaconda3/lib/python3.7/site-packages/seaborn/_decorators.py:43: FutureWarning: Pass the following variables as keyword args: x, y. From version 0.12, the only valid positional argument will be `data`, and passing other arguments without an explicit keyword will result in an error or misinterpretation.\n",
      "  FutureWarning\n"
     ]
    },
    {
     "data": {
      "image/png": "[encoded data removed]",
      "text/plain": [
       "<Figure size 720x360 with 2 Axes>"
      ]
     },
     "metadata": {
      "needs_background": "light"
     },
     "output_type": "display_data"
    }
   ],
   "source": [
    "x = list(spearman_dict_C.keys())\n",
    "y_cs = list(spearman_dict_C.values())\n",
    "y_ts = list(spearman_dict_T.values())\n",
    "y_ws = list(spearman_dict_W.values())\n",
    "y_cp = list(pearson_dict_C.values())\n",
    "y_tp = list(pearson_dict_T.values())\n",
    "y_wp = list(pearson_dict_W.values())\n",
    "\n",
    "fig , axes = plt.subplots(nrows = 1, ncols = 2, figsize=(10,5))\n",
    "\n",
    "plt.sca(axes[0])\n",
    "ax = sns.scatterplot(x, y_cs)\n",
    "ax = sns.scatterplot(x, y_ts)\n",
    "ax = sns.scatterplot(x, y_ws)\n",
    "ax.set(ylabel = 'Correlation coeffiecient')\n",
    "plt.title('Spearman correlation')\n",
    "\n",
    "plt.sca(axes[1])\n",
    "ax = sns.scatterplot(x, y_cp)\n",
    "ax = sns.scatterplot(x, y_tp)\n",
    "ax = sns.scatterplot(x, y_wp)\n",
    "ax.set(ylabel = 'Correlation coeffiecient')\n",
    "plt.title('Pearson correlation')\n",
    "\n",
    "plt.legend(labels=['Wet Bulb Globe', 'Crosswind speed', 'Temperature'], frameon=False)\n",
    "\n",
    "plt.tight_layout()\n",
    "fig.suptitle('Correlations between sensors', fontsize = 15, y = 1.08)\n",
    "\n",
    "plt.savefig('Pearson and Spearman correlations') "
   ]
  },
  {
   "cell_type": "markdown",
   "metadata": {},
   "source": [
    "## A4"
   ]
  },
  {
   "cell_type": "code",
   "execution_count": 42,
   "metadata": {},
   "outputs": [],
   "source": [
    "#CDFs "
   ]
  },
  {
   "cell_type": "code",
   "execution_count": 43,
   "metadata": {},
   "outputs": [
    {
     "data": {
      "image/png": "[encoded data removed]",
      "text/plain": [
       "<Figure size 1440x360 with 5 Axes>"
      ]
     },
     "metadata": {
      "needs_background": "light"
     },
     "output_type": "display_data"
    }
   ],
   "source": [
    "fig , axes = plt.subplots(nrows = 1, ncols = 5, figsize=(20,5))\n",
    "plt.sca(axes[0])\n",
    "a1 = plt.hist(x=sensor_a['Wind Speed'], bins=50, cumulative=True, density = True, alpha=0.7, rwidth=0.85)\n",
    "plt.plot(a1[1][1:]-(a1[1][1:]-a1[1][:-1])/2,a1[0], color='k')\n",
    "plt.title('Sensor A')\n",
    "plt.xlabel('Wind Speed')\n",
    "plt.ylabel('Density')\n",
    "\n",
    "plt.sca(axes[1])\n",
    "b1 = plt.hist(x=sensor_b['Wind Speed'], bins=50, cumulative=True, density = True, alpha=0.7, rwidth=0.85)\n",
    "plt.plot(b1[1][1:]-(b1[1][1:]-b1[1][:-1])/2,b1[0], color='k')\n",
    "plt.title('Sensor B')\n",
    "plt.xlabel('Wind Speed')\n",
    "plt.ylabel('Density')\n",
    "\n",
    "plt.sca(axes[2])\n",
    "c1 = plt.hist(x=sensor_c['Wind Speed'], bins=50, cumulative=True, density = True, alpha=0.7, rwidth=0.85)\n",
    "plt.plot(c1[1][1:]-(c1[1][1:]-c1[1][:-1])/2,c1[0], color='k')\n",
    "plt.title('Sensor C')\n",
    "plt.xlabel('Wind Speed')\n",
    "plt.ylabel('Density')\n",
    "\n",
    "plt.sca(axes[3])\n",
    "d1 = plt.hist(x=sensor_d['Wind Speed'], bins=50, cumulative=True, density = True ,alpha=0.7, rwidth=0.85)\n",
    "plt.plot(d1[1][1:]-(d1[1][1:]-a1[1][:-1])/2,d1[0], color='k')\n",
    "plt.title('Sensor D')\n",
    "plt.xlabel('Wind Speed')\n",
    "plt.ylabel('Density')\n",
    "\n",
    "plt.sca(axes[4])\n",
    "e1 = plt.hist(x=sensor_d['Wind Speed'], bins=50, cumulative=True, density = True, alpha=0.7, rwidth=0.85)\n",
    "plt.plot(e1[1][1:]-(e1[1][1:]-e1[1][:-1])/2,e1[0], color='k')\n",
    "plt.title('Sensor E')\n",
    "plt.xlabel('Wind Speed')\n",
    "plt.ylabel('Density')\n",
    "\n",
    "plt.tight_layout()\n",
    "fig.suptitle('CDF of the wind speed per sensor', fontsize = 15, y = 1.08)\n",
    "plt.savefig('CDF of Wind Speed per sensor') "
   ]
  },
  {
   "cell_type": "code",
   "execution_count": 44,
   "metadata": {},
   "outputs": [],
   "source": [
    "sensor_list = ['A', 'B', 'C', 'D', 'E']"
   ]
  },
  {
   "cell_type": "code",
   "execution_count": 45,
   "metadata": {},
   "outputs": [],
   "source": [
    "sensor_names = [sensor_a, sensor_b, sensor_c, sensor_d, sensor_e]\n",
    "lower_list = []\n",
    "upper_list = []\n",
    "\n",
    "for sensor in sensor_names: \n",
    "    mean = np.mean(sensor['Temperature'])\n",
    "    std = np.std(sensor['Temperature'])\n",
    "    sample_size = len(sensor['Temperature'])\n",
    "    lower, upper = stats.t.interval(0.95, sample_size-1, loc=mean, scale= std)\n",
    "\n",
    "    lower_list.append(lower)\n",
    "    upper_list.append(upper)\n",
    "    "
   ]
  },
  {
   "cell_type": "code",
   "execution_count": 46,
   "metadata": {},
   "outputs": [],
   "source": [
    "df_temp_intervals = pd.DataFrame([sensor_list, lower_list, upper_list]).transpose()"
   ]
  },
  {
   "cell_type": "code",
   "execution_count": 47,
   "metadata": {},
   "outputs": [],
   "source": [
    "df_temp_intervals.columns = ['Sensor', 'Lower boundary', 'Upper boundary']"
   ]
  },
  {
   "cell_type": "code",
   "execution_count": 48,
   "metadata": {},
   "outputs": [
    {
     "data": {
      "text/html": [
       "<div>\n",
       "<style scoped>\n",
       "    .dataframe tbody tr th:only-of-type {\n",
       "        vertical-align: middle;\n",
       "    }\n",
       "\n",
       "    .dataframe tbody tr th {\n",
       "        vertical-align: top;\n",
       "    }\n",
       "\n",
       "    .dataframe thead th {\n",
       "        text-align: right;\n",
       "    }\n",
       "</style>\n",
       "<table border=\"1\" class=\"dataframe\">\n",
       "  <thead>\n",
       "    <tr style=\"text-align: right;\">\n",
       "      <th></th>\n",
       "      <th>Sensor</th>\n",
       "      <th>Lower boundary</th>\n",
       "      <th>Upper boundary</th>\n",
       "    </tr>\n",
       "  </thead>\n",
       "  <tbody>\n",
       "    <tr>\n",
       "      <td>0</td>\n",
       "      <td>A</td>\n",
       "      <td>10.1603</td>\n",
       "      <td>25.7779</td>\n",
       "    </tr>\n",
       "    <tr>\n",
       "      <td>1</td>\n",
       "      <td>B</td>\n",
       "      <td>10.0706</td>\n",
       "      <td>26.0602</td>\n",
       "    </tr>\n",
       "    <tr>\n",
       "      <td>2</td>\n",
       "      <td>C</td>\n",
       "      <td>10.0455</td>\n",
       "      <td>25.7808</td>\n",
       "    </tr>\n",
       "    <tr>\n",
       "      <td>3</td>\n",
       "      <td>D</td>\n",
       "      <td>10.1284</td>\n",
       "      <td>25.8643</td>\n",
       "    </tr>\n",
       "    <tr>\n",
       "      <td>4</td>\n",
       "      <td>E</td>\n",
       "      <td>9.79851</td>\n",
       "      <td>26.9094</td>\n",
       "    </tr>\n",
       "  </tbody>\n",
       "</table>\n",
       "</div>"
      ],
      "text/plain": [
       "  Sensor Lower boundary Upper boundary\n",
       "0      A        10.1603        25.7779\n",
       "1      B        10.0706        26.0602\n",
       "2      C        10.0455        25.7808\n",
       "3      D        10.1284        25.8643\n",
       "4      E        9.79851        26.9094"
      ]
     },
     "execution_count": 48,
     "metadata": {},
     "output_type": "execute_result"
    }
   ],
   "source": [
    "df_temp_intervals"
   ]
  },
  {
   "cell_type": "code",
   "execution_count": 49,
   "metadata": {},
   "outputs": [],
   "source": [
    "df_temp_intervals.to_csv('confidence_intervals_temperatures.csv')"
   ]
  },
  {
   "cell_type": "code",
   "execution_count": 67,
   "metadata": {},
   "outputs": [],
   "source": [
    "\n",
    "lower_list_WS = []\n",
    "upper_list_WS = []\n",
    "\n",
    "for sensor in sensor_names: \n",
    "    mean = np.mean(sensor['Wind Speed'])\n",
    "    std = np.std(sensor['Wind Speed'])\n",
    "    sample_size = len(sensor['Wind Speed'])\n",
    "    lower, upper = stats.t.interval(0.95, sample_size-1, loc=mean, scale= std)\n",
    "    if lower < 0: \n",
    "        lower = 0\n",
    "        \n",
    "    lower_list_WS.append(lower)\n",
    "    upper_list_WS.append(upper)\n",
    "    \n",
    "df_windspeed_intervals = pd.DataFrame([sensor_list, \n",
    "                                  lower_list_WS, \n",
    "                                  upper_list_WS]).transpose()\n",
    "df_windspeed_intervals.columns = ['Sensor', 'Lower boundary', \n",
    "                                  'Upper boundary']\n"
   ]
  },
  {
   "cell_type": "code",
   "execution_count": 68,
   "metadata": {},
   "outputs": [],
   "source": [
    "df_windspeed_intervals.to_csv('confidence_intervals_windspeed_95.csv')"
   ]
  },
  {
   "cell_type": "code",
   "execution_count": 89,
   "metadata": {},
   "outputs": [],
   "source": [
    "sensor_names = [sensor_a, sensor_b, sensor_c, sensor_d, sensor_e]\n",
    "lower_list_WS = []\n",
    "upper_list_WS = []\n",
    "\n",
    "for sensor in sensor_names: \n",
    "    mean = np.mean(sensor['Wind Speed'])\n",
    "    std = np.std(sensor['Wind Speed'])\n",
    "    sample_size = len(sensor['Wind Speed'])\n",
    "    lower, upper = stats.t.interval(0.70, sample_size-1, loc=mean, scale= std)\n",
    "    if lower < 0: \n",
    "        lower = 0\n",
    "        \n",
    "    lower_list_WS.append(lower)\n",
    "    upper_list_WS.append(upper)\n",
    "    \n",
    "df_windspeed_intervals_70 = pd.DataFrame([sensor_list, \n",
    "                                  lower_list_WS, \n",
    "                                  upper_list_WS]).transpose()\n",
    "df_windspeed_intervals_70.columns = ['Sensor', 'Lower boundary', \n",
    "                                  'Upper boundary']\n",
    "\n",
    "df_windspeed_intervals_70.to_csv('confidence_intervals_windspeed_70.csv')"
   ]
  },
  {
   "cell_type": "code",
   "execution_count": 90,
   "metadata": {},
   "outputs": [
    {
     "data": {
      "text/html": [
       "<div>\n",
       "<style scoped>\n",
       "    .dataframe tbody tr th:only-of-type {\n",
       "        vertical-align: middle;\n",
       "    }\n",
       "\n",
       "    .dataframe tbody tr th {\n",
       "        vertical-align: top;\n",
       "    }\n",
       "\n",
       "    .dataframe thead th {\n",
       "        text-align: right;\n",
       "    }\n",
       "</style>\n",
       "<table border=\"1\" class=\"dataframe\">\n",
       "  <thead>\n",
       "    <tr style=\"text-align: right;\">\n",
       "      <th></th>\n",
       "      <th>Sensor</th>\n",
       "      <th>Lower boundary</th>\n",
       "      <th>Upper boundary</th>\n",
       "    </tr>\n",
       "  </thead>\n",
       "  <tbody>\n",
       "    <tr>\n",
       "      <td>0</td>\n",
       "      <td>A</td>\n",
       "      <td>0.130995</td>\n",
       "      <td>2.44962</td>\n",
       "    </tr>\n",
       "    <tr>\n",
       "      <td>1</td>\n",
       "      <td>B</td>\n",
       "      <td>0.0597173</td>\n",
       "      <td>2.42453</td>\n",
       "    </tr>\n",
       "    <tr>\n",
       "      <td>2</td>\n",
       "      <td>C</td>\n",
       "      <td>0.131661</td>\n",
       "      <td>2.61127</td>\n",
       "    </tr>\n",
       "    <tr>\n",
       "      <td>3</td>\n",
       "      <td>D</td>\n",
       "      <td>0.214561</td>\n",
       "      <td>2.94874</td>\n",
       "    </tr>\n",
       "    <tr>\n",
       "      <td>4</td>\n",
       "      <td>E</td>\n",
       "      <td>0</td>\n",
       "      <td>1.3373</td>\n",
       "    </tr>\n",
       "  </tbody>\n",
       "</table>\n",
       "</div>"
      ],
      "text/plain": [
       "  Sensor Lower boundary Upper boundary\n",
       "0      A       0.130995        2.44962\n",
       "1      B      0.0597173        2.42453\n",
       "2      C       0.131661        2.61127\n",
       "3      D       0.214561        2.94874\n",
       "4      E              0         1.3373"
      ]
     },
     "execution_count": 90,
     "metadata": {},
     "output_type": "execute_result"
    }
   ],
   "source": [
    "df_windspeed_intervals_70"
   ]
  },
  {
   "cell_type": "code",
   "execution_count": 53,
   "metadata": {},
   "outputs": [
    {
     "data": {
      "text/plain": [
       "0.3"
      ]
     },
     "execution_count": 53,
     "metadata": {},
     "output_type": "execute_result"
    }
   ],
   "source": [
    "percentile5 = np.percentile(Wind_speed.A, 20)\n",
    "percentile5"
   ]
  },
  {
   "cell_type": "code",
   "execution_count": 54,
   "metadata": {},
   "outputs": [
    {
     "data": {
      "text/plain": [
       "3.4"
      ]
     },
     "execution_count": 54,
     "metadata": {},
     "output_type": "execute_result"
    }
   ],
   "source": [
    "percentile95 = np.percentile(Wind_speed.A, 95)\n",
    "percentile95\n"
   ]
  },
  {
   "cell_type": "markdown",
   "metadata": {},
   "source": [
    "#### Hypothesis test "
   ]
  },
  {
   "cell_type": "code",
   "execution_count": 60,
   "metadata": {},
   "outputs": [],
   "source": [
    "# Temperature \n",
    "\n",
    "inverted_sensor_list = ['E', 'D', 'C', 'B', 'A']"
   ]
  },
  {
   "cell_type": "code",
   "execution_count": 61,
   "metadata": {},
   "outputs": [
    {
     "name": "stdout",
     "output_type": "stream",
     "text": [
      "E - D t:  16.750465454164768  p:  9.731063787480069e-60\n",
      "D - C t:  6.874584572676161  p:  7.843074290243711e-12\n",
      "C - B t:  -10.581245937762523  p:  1.2737070195795088e-25\n",
      "B - A t:  7.597953292274317  p:  4.240332134370121e-14\n"
     ]
    }
   ],
   "source": [
    "hypothesis_dict_T = {}\n",
    "for sensor1 in inverted_sensor_list: \n",
    "    if sensor1 != 'A':\n",
    "        values_list = []\n",
    "        index = inverted_sensor_list.index(sensor1)\n",
    "        sensor2 = inverted_sensor_list[index + 1]\n",
    "        t, p = stats.ttest_rel(Temperature[sensor1], Temperature[sensor2])\n",
    "        print(sensor1, '-', sensor2, 't: ', t, ' p: ', p)\n",
    "        values_list.append(t)\n",
    "        values_list.append(p)\n",
    "        key = sensor1 + '-' + sensor2\n",
    "        hypothesis_dict_T[key] = values_list"
   ]
  },
  {
   "cell_type": "code",
   "execution_count": 62,
   "metadata": {},
   "outputs": [
    {
     "data": {
      "text/plain": [
       "{'E-D': [16.750465454164768, 9.731063787480069e-60],\n",
       " 'D-C': [6.874584572676161, 7.843074290243711e-12],\n",
       " 'C-B': [-10.581245937762523, 1.2737070195795088e-25],\n",
       " 'B-A': [7.597953292274317, 4.240332134370121e-14]}"
      ]
     },
     "execution_count": 62,
     "metadata": {},
     "output_type": "execute_result"
    }
   ],
   "source": [
    "hypothesis_dict_T"
   ]
  },
  {
   "cell_type": "code",
   "execution_count": 63,
   "metadata": {},
   "outputs": [],
   "source": [
    "hypo_test = pd.DataFrame.from_dict(hypothesis_dict_T).transpose()"
   ]
  },
  {
   "cell_type": "code",
   "execution_count": 64,
   "metadata": {},
   "outputs": [],
   "source": [
    "hypo_test.columns = ['t-statistic', 'p-value']"
   ]
  },
  {
   "cell_type": "code",
   "execution_count": 65,
   "metadata": {},
   "outputs": [],
   "source": [
    "hypo_test.to_csv('hypothesis_test.csv')"
   ]
  },
  {
   "cell_type": "markdown",
   "metadata": {},
   "source": [
    "### Bonus"
   ]
  },
  {
   "cell_type": "code",
   "execution_count": 110,
   "metadata": {},
   "outputs": [],
   "source": [
    "sensor_a_t = sensor_a[['FORMATTED DATE-TIME', 'Temperature']]\n",
    "grouped_a = sensor_a_t.set_index('FORMATTED DATE-TIME').groupby(pd.Grouper(freq='D')).mean()"
   ]
  },
  {
   "cell_type": "code",
   "execution_count": 111,
   "metadata": {},
   "outputs": [],
   "source": [
    "sensor_b_t = sensor_b[['FORMATTED DATE-TIME', 'Temperature']]\n",
    "grouped_b = sensor_b_t.set_index('FORMATTED DATE-TIME').groupby(pd.Grouper(freq='D')).mean()"
   ]
  },
  {
   "cell_type": "code",
   "execution_count": 112,
   "metadata": {},
   "outputs": [],
   "source": [
    "sensor_c_t = sensor_c[['FORMATTED DATE-TIME', 'Temperature']]\n",
    "grouped_c = sensor_c_t.set_index('FORMATTED DATE-TIME').groupby(pd.Grouper(freq='D')).mean()"
   ]
  },
  {
   "cell_type": "code",
   "execution_count": 113,
   "metadata": {},
   "outputs": [],
   "source": [
    "sensor_d_t = sensor_d[['FORMATTED DATE-TIME', 'Temperature']]\n",
    "grouped_d = sensor_d_t.set_index('FORMATTED DATE-TIME').groupby(pd.Grouper(freq='D')).mean()"
   ]
  },
  {
   "cell_type": "code",
   "execution_count": 114,
   "metadata": {},
   "outputs": [],
   "source": [
    "sensor_e_t = sensor_e[['FORMATTED DATE-TIME', 'Temperature']]\n",
    "grouped_e = sensor_e_t.set_index('FORMATTED DATE-TIME').groupby(pd.Grouper(freq='D')).mean()"
   ]
  },
  {
   "cell_type": "code",
   "execution_count": 118,
   "metadata": {},
   "outputs": [
    {
     "data": {
      "text/html": [
       "<div>\n",
       "<style scoped>\n",
       "    .dataframe tbody tr th:only-of-type {\n",
       "        vertical-align: middle;\n",
       "    }\n",
       "\n",
       "    .dataframe tbody tr th {\n",
       "        vertical-align: top;\n",
       "    }\n",
       "\n",
       "    .dataframe thead th {\n",
       "        text-align: right;\n",
       "    }\n",
       "</style>\n",
       "<table border=\"1\" class=\"dataframe\">\n",
       "  <thead>\n",
       "    <tr style=\"text-align: right;\">\n",
       "      <th></th>\n",
       "      <th>Temperature</th>\n",
       "    </tr>\n",
       "    <tr>\n",
       "      <th>FORMATTED DATE-TIME</th>\n",
       "      <th></th>\n",
       "    </tr>\n",
       "  </thead>\n",
       "  <tbody>\n",
       "    <tr>\n",
       "      <td>2020-06-10</td>\n",
       "      <td>14.155556</td>\n",
       "    </tr>\n",
       "    <tr>\n",
       "      <td>2020-07-08</td>\n",
       "      <td>14.436111</td>\n",
       "    </tr>\n",
       "  </tbody>\n",
       "</table>\n",
       "</div>"
      ],
      "text/plain": [
       "                     Temperature\n",
       "FORMATTED DATE-TIME             \n",
       "2020-06-10             14.155556\n",
       "2020-07-08             14.436111"
      ]
     },
     "execution_count": 118,
     "metadata": {},
     "output_type": "execute_result"
    }
   ],
   "source": [
    "grouped_a.nsmallest(2, 'Temperature')"
   ]
  },
  {
   "cell_type": "code",
   "execution_count": 119,
   "metadata": {},
   "outputs": [
    {
     "data": {
      "text/html": [
       "<div>\n",
       "<style scoped>\n",
       "    .dataframe tbody tr th:only-of-type {\n",
       "        vertical-align: middle;\n",
       "    }\n",
       "\n",
       "    .dataframe tbody tr th {\n",
       "        vertical-align: top;\n",
       "    }\n",
       "\n",
       "    .dataframe thead th {\n",
       "        text-align: right;\n",
       "    }\n",
       "</style>\n",
       "<table border=\"1\" class=\"dataframe\">\n",
       "  <thead>\n",
       "    <tr style=\"text-align: right;\">\n",
       "      <th></th>\n",
       "      <th>Temperature</th>\n",
       "    </tr>\n",
       "    <tr>\n",
       "      <th>FORMATTED DATE-TIME</th>\n",
       "      <th></th>\n",
       "    </tr>\n",
       "  </thead>\n",
       "  <tbody>\n",
       "    <tr>\n",
       "      <td>2020-06-10</td>\n",
       "      <td>14.327778</td>\n",
       "    </tr>\n",
       "    <tr>\n",
       "      <td>2020-07-08</td>\n",
       "      <td>14.343056</td>\n",
       "    </tr>\n",
       "  </tbody>\n",
       "</table>\n",
       "</div>"
      ],
      "text/plain": [
       "                     Temperature\n",
       "FORMATTED DATE-TIME             \n",
       "2020-06-10             14.327778\n",
       "2020-07-08             14.343056"
      ]
     },
     "execution_count": 119,
     "metadata": {},
     "output_type": "execute_result"
    }
   ],
   "source": [
    "grouped_b.nsmallest(2, 'Temperature')"
   ]
  },
  {
   "cell_type": "code",
   "execution_count": 120,
   "metadata": {},
   "outputs": [
    {
     "data": {
      "text/html": [
       "<div>\n",
       "<style scoped>\n",
       "    .dataframe tbody tr th:only-of-type {\n",
       "        vertical-align: middle;\n",
       "    }\n",
       "\n",
       "    .dataframe tbody tr th {\n",
       "        vertical-align: top;\n",
       "    }\n",
       "\n",
       "    .dataframe thead th {\n",
       "        text-align: right;\n",
       "    }\n",
       "</style>\n",
       "<table border=\"1\" class=\"dataframe\">\n",
       "  <thead>\n",
       "    <tr style=\"text-align: right;\">\n",
       "      <th></th>\n",
       "      <th>Temperature</th>\n",
       "    </tr>\n",
       "    <tr>\n",
       "      <th>FORMATTED DATE-TIME</th>\n",
       "      <th></th>\n",
       "    </tr>\n",
       "  </thead>\n",
       "  <tbody>\n",
       "    <tr>\n",
       "      <td>2020-06-10</td>\n",
       "      <td>14.266667</td>\n",
       "    </tr>\n",
       "    <tr>\n",
       "      <td>2020-07-08</td>\n",
       "      <td>14.436111</td>\n",
       "    </tr>\n",
       "  </tbody>\n",
       "</table>\n",
       "</div>"
      ],
      "text/plain": [
       "                     Temperature\n",
       "FORMATTED DATE-TIME             \n",
       "2020-06-10             14.266667\n",
       "2020-07-08             14.436111"
      ]
     },
     "execution_count": 120,
     "metadata": {},
     "output_type": "execute_result"
    }
   ],
   "source": [
    "grouped_c.nsmallest(2, 'Temperature')"
   ]
  },
  {
   "cell_type": "code",
   "execution_count": 121,
   "metadata": {},
   "outputs": [
    {
     "data": {
      "text/html": [
       "<div>\n",
       "<style scoped>\n",
       "    .dataframe tbody tr th:only-of-type {\n",
       "        vertical-align: middle;\n",
       "    }\n",
       "\n",
       "    .dataframe tbody tr th {\n",
       "        vertical-align: top;\n",
       "    }\n",
       "\n",
       "    .dataframe thead th {\n",
       "        text-align: right;\n",
       "    }\n",
       "</style>\n",
       "<table border=\"1\" class=\"dataframe\">\n",
       "  <thead>\n",
       "    <tr style=\"text-align: right;\">\n",
       "      <th></th>\n",
       "      <th>Temperature</th>\n",
       "    </tr>\n",
       "    <tr>\n",
       "      <th>FORMATTED DATE-TIME</th>\n",
       "      <th></th>\n",
       "    </tr>\n",
       "  </thead>\n",
       "  <tbody>\n",
       "    <tr>\n",
       "      <td>2020-06-10</td>\n",
       "      <td>14.370833</td>\n",
       "    </tr>\n",
       "    <tr>\n",
       "      <td>2020-07-08</td>\n",
       "      <td>14.383333</td>\n",
       "    </tr>\n",
       "  </tbody>\n",
       "</table>\n",
       "</div>"
      ],
      "text/plain": [
       "                     Temperature\n",
       "FORMATTED DATE-TIME             \n",
       "2020-06-10             14.370833\n",
       "2020-07-08             14.383333"
      ]
     },
     "execution_count": 121,
     "metadata": {},
     "output_type": "execute_result"
    }
   ],
   "source": [
    "grouped_d.nsmallest(2, 'Temperature')"
   ]
  },
  {
   "cell_type": "code",
   "execution_count": 122,
   "metadata": {},
   "outputs": [
    {
     "data": {
      "text/html": [
       "<div>\n",
       "<style scoped>\n",
       "    .dataframe tbody tr th:only-of-type {\n",
       "        vertical-align: middle;\n",
       "    }\n",
       "\n",
       "    .dataframe tbody tr th {\n",
       "        vertical-align: top;\n",
       "    }\n",
       "\n",
       "    .dataframe thead th {\n",
       "        text-align: right;\n",
       "    }\n",
       "</style>\n",
       "<table border=\"1\" class=\"dataframe\">\n",
       "  <thead>\n",
       "    <tr style=\"text-align: right;\">\n",
       "      <th></th>\n",
       "      <th>Temperature</th>\n",
       "    </tr>\n",
       "    <tr>\n",
       "      <th>FORMATTED DATE-TIME</th>\n",
       "      <th></th>\n",
       "    </tr>\n",
       "  </thead>\n",
       "  <tbody>\n",
       "    <tr>\n",
       "      <td>2020-07-08</td>\n",
       "      <td>14.490278</td>\n",
       "    </tr>\n",
       "    <tr>\n",
       "      <td>2020-06-10</td>\n",
       "      <td>14.613889</td>\n",
       "    </tr>\n",
       "  </tbody>\n",
       "</table>\n",
       "</div>"
      ],
      "text/plain": [
       "                     Temperature\n",
       "FORMATTED DATE-TIME             \n",
       "2020-07-08             14.490278\n",
       "2020-06-10             14.613889"
      ]
     },
     "execution_count": 122,
     "metadata": {},
     "output_type": "execute_result"
    }
   ],
   "source": [
    "grouped_e.nsmallest(2, 'Temperature')"
   ]
  },
  {
   "cell_type": "code",
   "execution_count": 123,
   "metadata": {},
   "outputs": [
    {
     "data": {
      "text/html": [
       "<div>\n",
       "<style scoped>\n",
       "    .dataframe tbody tr th:only-of-type {\n",
       "        vertical-align: middle;\n",
       "    }\n",
       "\n",
       "    .dataframe tbody tr th {\n",
       "        vertical-align: top;\n",
       "    }\n",
       "\n",
       "    .dataframe thead th {\n",
       "        text-align: right;\n",
       "    }\n",
       "</style>\n",
       "<table border=\"1\" class=\"dataframe\">\n",
       "  <thead>\n",
       "    <tr style=\"text-align: right;\">\n",
       "      <th></th>\n",
       "      <th>Temperature</th>\n",
       "    </tr>\n",
       "    <tr>\n",
       "      <th>FORMATTED DATE-TIME</th>\n",
       "      <th></th>\n",
       "    </tr>\n",
       "  </thead>\n",
       "  <tbody>\n",
       "    <tr>\n",
       "      <td>2020-06-26</td>\n",
       "      <td>25.183333</td>\n",
       "    </tr>\n",
       "    <tr>\n",
       "      <td>2020-06-25</td>\n",
       "      <td>24.709722</td>\n",
       "    </tr>\n",
       "  </tbody>\n",
       "</table>\n",
       "</div>"
      ],
      "text/plain": [
       "                     Temperature\n",
       "FORMATTED DATE-TIME             \n",
       "2020-06-26             25.183333\n",
       "2020-06-25             24.709722"
      ]
     },
     "execution_count": 123,
     "metadata": {},
     "output_type": "execute_result"
    }
   ],
   "source": [
    "grouped_a.nlargest(2, 'Temperature')"
   ]
  },
  {
   "cell_type": "code",
   "execution_count": 124,
   "metadata": {},
   "outputs": [
    {
     "data": {
      "text/html": [
       "<div>\n",
       "<style scoped>\n",
       "    .dataframe tbody tr th:only-of-type {\n",
       "        vertical-align: middle;\n",
       "    }\n",
       "\n",
       "    .dataframe tbody tr th {\n",
       "        vertical-align: top;\n",
       "    }\n",
       "\n",
       "    .dataframe thead th {\n",
       "        text-align: right;\n",
       "    }\n",
       "</style>\n",
       "<table border=\"1\" class=\"dataframe\">\n",
       "  <thead>\n",
       "    <tr style=\"text-align: right;\">\n",
       "      <th></th>\n",
       "      <th>Temperature</th>\n",
       "    </tr>\n",
       "    <tr>\n",
       "      <th>FORMATTED DATE-TIME</th>\n",
       "      <th></th>\n",
       "    </tr>\n",
       "  </thead>\n",
       "  <tbody>\n",
       "    <tr>\n",
       "      <td>2020-06-26</td>\n",
       "      <td>24.929167</td>\n",
       "    </tr>\n",
       "    <tr>\n",
       "      <td>2020-06-25</td>\n",
       "      <td>24.904167</td>\n",
       "    </tr>\n",
       "  </tbody>\n",
       "</table>\n",
       "</div>"
      ],
      "text/plain": [
       "                     Temperature\n",
       "FORMATTED DATE-TIME             \n",
       "2020-06-26             24.929167\n",
       "2020-06-25             24.904167"
      ]
     },
     "execution_count": 124,
     "metadata": {},
     "output_type": "execute_result"
    }
   ],
   "source": [
    "grouped_b.nlargest(2, 'Temperature')"
   ]
  },
  {
   "cell_type": "code",
   "execution_count": 125,
   "metadata": {},
   "outputs": [
    {
     "data": {
      "text/html": [
       "<div>\n",
       "<style scoped>\n",
       "    .dataframe tbody tr th:only-of-type {\n",
       "        vertical-align: middle;\n",
       "    }\n",
       "\n",
       "    .dataframe tbody tr th {\n",
       "        vertical-align: top;\n",
       "    }\n",
       "\n",
       "    .dataframe thead th {\n",
       "        text-align: right;\n",
       "    }\n",
       "</style>\n",
       "<table border=\"1\" class=\"dataframe\">\n",
       "  <thead>\n",
       "    <tr style=\"text-align: right;\">\n",
       "      <th></th>\n",
       "      <th>Temperature</th>\n",
       "    </tr>\n",
       "    <tr>\n",
       "      <th>FORMATTED DATE-TIME</th>\n",
       "      <th></th>\n",
       "    </tr>\n",
       "  </thead>\n",
       "  <tbody>\n",
       "    <tr>\n",
       "      <td>2020-06-26</td>\n",
       "      <td>24.872222</td>\n",
       "    </tr>\n",
       "    <tr>\n",
       "      <td>2020-06-25</td>\n",
       "      <td>24.870833</td>\n",
       "    </tr>\n",
       "  </tbody>\n",
       "</table>\n",
       "</div>"
      ],
      "text/plain": [
       "                     Temperature\n",
       "FORMATTED DATE-TIME             \n",
       "2020-06-26             24.872222\n",
       "2020-06-25             24.870833"
      ]
     },
     "execution_count": 125,
     "metadata": {},
     "output_type": "execute_result"
    }
   ],
   "source": [
    "grouped_c.nlargest(2, 'Temperature')"
   ]
  },
  {
   "cell_type": "code",
   "execution_count": 126,
   "metadata": {},
   "outputs": [
    {
     "data": {
      "text/html": [
       "<div>\n",
       "<style scoped>\n",
       "    .dataframe tbody tr th:only-of-type {\n",
       "        vertical-align: middle;\n",
       "    }\n",
       "\n",
       "    .dataframe tbody tr th {\n",
       "        vertical-align: top;\n",
       "    }\n",
       "\n",
       "    .dataframe thead th {\n",
       "        text-align: right;\n",
       "    }\n",
       "</style>\n",
       "<table border=\"1\" class=\"dataframe\">\n",
       "  <thead>\n",
       "    <tr style=\"text-align: right;\">\n",
       "      <th></th>\n",
       "      <th>Temperature</th>\n",
       "    </tr>\n",
       "    <tr>\n",
       "      <th>FORMATTED DATE-TIME</th>\n",
       "      <th></th>\n",
       "    </tr>\n",
       "  </thead>\n",
       "  <tbody>\n",
       "    <tr>\n",
       "      <td>2020-06-26</td>\n",
       "      <td>24.875000</td>\n",
       "    </tr>\n",
       "    <tr>\n",
       "      <td>2020-06-25</td>\n",
       "      <td>24.809722</td>\n",
       "    </tr>\n",
       "  </tbody>\n",
       "</table>\n",
       "</div>"
      ],
      "text/plain": [
       "                     Temperature\n",
       "FORMATTED DATE-TIME             \n",
       "2020-06-26             24.875000\n",
       "2020-06-25             24.809722"
      ]
     },
     "execution_count": 126,
     "metadata": {},
     "output_type": "execute_result"
    }
   ],
   "source": [
    "grouped_d.nlargest(2, 'Temperature')"
   ]
  },
  {
   "cell_type": "code",
   "execution_count": 127,
   "metadata": {},
   "outputs": [
    {
     "data": {
      "text/html": [
       "<div>\n",
       "<style scoped>\n",
       "    .dataframe tbody tr th:only-of-type {\n",
       "        vertical-align: middle;\n",
       "    }\n",
       "\n",
       "    .dataframe tbody tr th {\n",
       "        vertical-align: top;\n",
       "    }\n",
       "\n",
       "    .dataframe thead th {\n",
       "        text-align: right;\n",
       "    }\n",
       "</style>\n",
       "<table border=\"1\" class=\"dataframe\">\n",
       "  <thead>\n",
       "    <tr style=\"text-align: right;\">\n",
       "      <th></th>\n",
       "      <th>Temperature</th>\n",
       "    </tr>\n",
       "    <tr>\n",
       "      <th>FORMATTED DATE-TIME</th>\n",
       "      <th></th>\n",
       "    </tr>\n",
       "  </thead>\n",
       "  <tbody>\n",
       "    <tr>\n",
       "      <td>2020-06-25</td>\n",
       "      <td>25.911111</td>\n",
       "    </tr>\n",
       "    <tr>\n",
       "      <td>2020-06-26</td>\n",
       "      <td>25.658333</td>\n",
       "    </tr>\n",
       "  </tbody>\n",
       "</table>\n",
       "</div>"
      ],
      "text/plain": [
       "                     Temperature\n",
       "FORMATTED DATE-TIME             \n",
       "2020-06-25             25.911111\n",
       "2020-06-26             25.658333"
      ]
     },
     "execution_count": 127,
     "metadata": {},
     "output_type": "execute_result"
    }
   ],
   "source": [
    "grouped_e.nlargest(2, 'Temperature')"
   ]
  },
  {
   "cell_type": "code",
   "execution_count": 25,
   "metadata": {},
   "outputs": [
    {
     "data": {
      "text/plain": [
       "27.057035353865277"
      ]
     },
     "execution_count": 25,
     "metadata": {},
     "output_type": "execute_result"
    }
   ],
   "source": [
    "2 * np.cbrt(2476)"
   ]
  },
  {
   "cell_type": "code",
   "execution_count": 24,
   "metadata": {},
   "outputs": [
    {
     "data": {
      "text/plain": [
       "2476"
      ]
     },
     "execution_count": 24,
     "metadata": {},
     "output_type": "execute_result"
    }
   ],
   "source": [
    "len(sensor_a['Temperature'])"
   ]
  },
  {
   "cell_type": "code",
   "execution_count": null,
   "metadata": {},
   "outputs": [],
   "source": []
  }
 ],
 "metadata": {
  "kernelspec": {
   "display_name": "Python 3",
   "language": "python",
   "name": "python3"
  },
  "language_info": {
   "codemirror_mode": {
    "name": "ipython",
    "version": 3
   },
   "file_extension": ".py",
   "mimetype": "text/x-python",
   "name": "python",
   "nbconvert_exporter": "python",
   "pygments_lexer": "ipython3",
   "version": "3.7.4"
  }
 },
 "nbformat": 4,
 "nbformat_minor": 2
}
